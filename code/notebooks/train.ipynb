{
  "nbformat": 4,
  "nbformat_minor": 0,
  "metadata": {
    "colab": {
      "name": "SOP.ipynb",
      "provenance": [],
      "collapsed_sections": [],
      "machine_shape": "hm",
      "include_colab_link": true
    },
    "kernelspec": {
      "name": "python3",
      "display_name": "Python 3"
    },
    "accelerator": "GPU"
  },
  "cells": [
    {
      "cell_type": "markdown",
      "metadata": {
        "id": "view-in-github",
        "colab_type": "text"
      },
      "source": [
        "<a href=\"https://colab.research.google.com/github/ashwinvaswani/Dynamic-Gesture-Recognition/blob/master/code/notebooks/train.ipynb\" target=\"_parent\"><img src=\"https://colab.research.google.com/assets/colab-badge.svg\" alt=\"Open In Colab\"/></a>"
      ]
    },
    {
      "cell_type": "code",
      "metadata": {
        "id": "iz5VRzpJYlNn",
        "colab_type": "code",
        "colab": {}
      },
      "source": [
        "import pandas as pd\n",
        "import numpy\n",
        "from keras.preprocessing.image import ImageDataGenerator\n",
        "from keras.models import Sequential\n",
        "from keras.layers.core import Dense, Dropout, Activation, Flatten, Reshape\n",
        "from keras.layers.convolutional import Conv3D, MaxPooling3D,Conv2D,AveragePooling2D,AveragePooling3D\n",
        "from keras.layers import Dense, GlobalAveragePooling3D,GlobalAveragePooling2D\n",
        "from keras.callbacks import EarlyStopping, ModelCheckpoint, LearningRateScheduler,ReduceLROnPlateau\n",
        "from keras.optimizers import SGD, RMSprop, Adadelta\n",
        "from keras.utils import np_utils, generic_utils\n",
        "from keras.layers.normalization import BatchNormalization\n",
        "from keras.layers.convolutional_recurrent import ConvLSTM2D\n",
        "\n",
        "import matplotlib\n",
        "import matplotlib.pyplot as plt\n",
        "import numpy as np\n",
        "from sklearn.model_selection import train_test_split\n",
        "from sklearn import model_selection\n",
        "from sklearn import preprocessing\n",
        "\n",
        "import os\n",
        "import cv2\n",
        "from tqdm import tqdm\n",
        "from keras import regularizers"
      ],
      "execution_count": 0,
      "outputs": []
    },
    {
      "cell_type": "code",
      "metadata": {
        "id": "CxELqi1dta3t",
        "colab_type": "code",
        "outputId": "cca2234e-99ec-4f1f-9736-ba8271c49242",
        "colab": {
          "base_uri": "https://localhost:8080/",
          "height": 128
        }
      },
      "source": [
        "from google.colab import drive\n",
        "drive.mount('/content/drive')"
      ],
      "execution_count": 0,
      "outputs": [
        {
          "output_type": "stream",
          "text": [
            "Go to this URL in a browser: https://accounts.google.com/o/oauth2/auth?client_id=947318989803-6bn6qk8qdgf4n4g3pfee6491hc0brc4i.apps.googleusercontent.com&redirect_uri=urn%3Aietf%3Awg%3Aoauth%3A2.0%3Aoob&scope=email%20https%3A%2F%2Fwww.googleapis.com%2Fauth%2Fdocs.test%20https%3A%2F%2Fwww.googleapis.com%2Fauth%2Fdrive%20https%3A%2F%2Fwww.googleapis.com%2Fauth%2Fdrive.photos.readonly%20https%3A%2F%2Fwww.googleapis.com%2Fauth%2Fpeopleapi.readonly&response_type=code\n",
            "\n",
            "Enter your authorization code:\n",
            "··········\n",
            "Mounted at /content/drive\n"
          ],
          "name": "stdout"
        }
      ]
    },
    {
      "cell_type": "code",
      "metadata": {
        "id": "yLjU9OtYtcIH",
        "colab_type": "code",
        "outputId": "ab74aa6a-3054-4abd-c7a6-64acb9fcf5a3",
        "colab": {
          "base_uri": "https://localhost:8080/",
          "height": 35
        }
      },
      "source": [
        "!ls"
      ],
      "execution_count": 0,
      "outputs": [
        {
          "output_type": "stream",
          "text": [
            "drive  sample_data\n"
          ],
          "name": "stdout"
        }
      ]
    },
    {
      "cell_type": "code",
      "metadata": {
        "id": "5bZr9VJ3tvCl",
        "colab_type": "code",
        "outputId": "5703843b-177f-43ad-dfac-e3630cec9cc1",
        "colab": {
          "base_uri": "https://localhost:8080/",
          "height": 35
        }
      },
      "source": [
        "cd '/content/drive/My Drive/'"
      ],
      "execution_count": 0,
      "outputs": [
        {
          "output_type": "stream",
          "text": [
            "/content/drive/My Drive\n"
          ],
          "name": "stdout"
        }
      ]
    },
    {
      "cell_type": "code",
      "metadata": {
        "id": "a-2hUkIKt2VS",
        "colab_type": "code",
        "colab": {}
      },
      "source": [
        "!tar -xf jesture-resized.tar.xz"
      ],
      "execution_count": 0,
      "outputs": []
    },
    {
      "cell_type": "code",
      "metadata": {
        "id": "UXMwfy9gL2x-",
        "colab_type": "code",
        "colab": {}
      },
      "source": [
        "# image specification\n",
        "img_rows,img_cols=64, 64\n",
        "\n",
        "# Training data\n",
        "X_tr=[]           # variable to store entire dataset"
      ],
      "execution_count": 0,
      "outputs": []
    },
    {
      "cell_type": "code",
      "metadata": {
        "id": "lHXGSA_gBiNq",
        "colab_type": "code",
        "outputId": "b31b28df-6869-4ccc-a699-f26b86381f02",
        "colab": {
          "base_uri": "https://localhost:8080/",
          "height": 72
        }
      },
      "source": [
        "ls_path = os.path.join(\"./Pulling Hand In\")\n",
        "listing = os.listdir(ls_path)\n",
        "\n",
        "for ls in tqdm(listing):\n",
        "    listing_stop = sorted(os.listdir(os.path.join(ls_path,ls))) \n",
        "    frames = []\n",
        "    img_depth=0\n",
        "    for imgs in listing_stop:\n",
        "        if img_depth <16:\n",
        "            img = os.path.join(os.path.join(ls_path,ls),imgs)\n",
        "            frame = cv2.imread(img)\n",
        "            frame=cv2.resize(frame,(img_rows,img_cols),interpolation=cv2.INTER_AREA)\n",
        "            gray = cv2.cvtColor(frame, cv2.COLOR_BGR2RGB)\n",
        "            frames.append(gray)\n",
        "            img_depth=img_depth+1\n",
        "        else:\n",
        "            break\n",
        "    input_img = np.array(frames)\n",
        "    ipt=np.rollaxis(np.rollaxis(input_img,2,0),2,0)\n",
        "    ipt=np.rollaxis(ipt,2,0)\n",
        "    X_tr.append(ipt)\n",
        "\n",
        "print()\n",
        "print (ipt.shape)\n",
        "num_samples = len(X_tr) \n",
        "print (num_samples)"
      ],
      "execution_count": 0,
      "outputs": [
        {
          "output_type": "stream",
          "text": [
            "100%|██████████| 1500/1500 [01:08<00:00, 21.85it/s]"
          ],
          "name": "stderr"
        },
        {
          "output_type": "stream",
          "text": [
            "(16, 64, 64, 3)\n",
            "1500\n"
          ],
          "name": "stdout"
        },
        {
          "output_type": "stream",
          "text": [
            "\n"
          ],
          "name": "stderr"
        }
      ]
    },
    {
      "cell_type": "code",
      "metadata": {
        "id": "0lrEDV94BxW0",
        "colab_type": "code",
        "outputId": "9a6aa64a-4a5e-4033-9575-43ae5397a1e8",
        "colab": {
          "base_uri": "https://localhost:8080/",
          "height": 72
        }
      },
      "source": [
        "\n",
        "ls_path = os.path.join(\"./Swiping Left\")\n",
        "listing = os.listdir(ls_path)\n",
        "\n",
        "for ls in tqdm(listing):\n",
        "    listing_stop = sorted(os.listdir(os.path.join(ls_path,ls))) \n",
        "    frames = []\n",
        "    img_depth=0\n",
        "    for imgs in listing_stop:\n",
        "        if img_depth <16:\n",
        "            img = os.path.join(os.path.join(ls_path,ls),imgs)\n",
        "            frame = cv2.imread(img)\n",
        "            frame=cv2.resize(frame,(img_rows,img_cols),interpolation=cv2.INTER_AREA)\n",
        "            gray = cv2.cvtColor(frame, cv2.COLOR_BGR2RGB)\n",
        "            frames.append(gray)\n",
        "            img_depth=img_depth+1\n",
        "        else:\n",
        "            break\n",
        "    input_img = np.array(frames)\n",
        "    ipt=np.rollaxis(np.rollaxis(input_img,2,0),2,0)\n",
        "    ipt=np.rollaxis(ipt,2,0)\n",
        "    X_tr.append(ipt)\n",
        "\n",
        "print()\n",
        "print (ipt.shape)\n",
        "num_samples = len(X_tr) \n",
        "print (num_samples)"
      ],
      "execution_count": 0,
      "outputs": [
        {
          "output_type": "stream",
          "text": [
            "100%|██████████| 1500/1500 [01:07<00:00, 22.11it/s]"
          ],
          "name": "stderr"
        },
        {
          "output_type": "stream",
          "text": [
            "(16, 64, 64, 3)\n",
            "3000\n"
          ],
          "name": "stdout"
        },
        {
          "output_type": "stream",
          "text": [
            "\n"
          ],
          "name": "stderr"
        }
      ]
    },
    {
      "cell_type": "code",
      "metadata": {
        "id": "Y-UMd12wCLSC",
        "colab_type": "code",
        "outputId": "65baebf4-0aed-45ca-d174-5e430a0a6d0b",
        "colab": {
          "base_uri": "https://localhost:8080/",
          "height": 72
        }
      },
      "source": [
        "\n",
        "ls_path = os.path.join(\"./Swiping Right\")\n",
        "listing = os.listdir(ls_path)\n",
        "\n",
        "for ls in tqdm(listing):\n",
        "    listing_stop = sorted(os.listdir(os.path.join(ls_path,ls))) \n",
        "    frames = []\n",
        "    img_depth=0\n",
        "    for imgs in listing_stop:\n",
        "        if img_depth <16:\n",
        "            img = os.path.join(os.path.join(ls_path,ls),imgs)\n",
        "            frame = cv2.imread(img)\n",
        "            frame=cv2.resize(frame,(img_rows,img_cols),interpolation=cv2.INTER_AREA)\n",
        "            gray = cv2.cvtColor(frame, cv2.COLOR_BGR2RGB)\n",
        "            frames.append(gray)\n",
        "            img_depth=img_depth+1\n",
        "        else:\n",
        "            break\n",
        "    input_img = np.array(frames)\n",
        "    ipt=np.rollaxis(np.rollaxis(input_img,2,0),2,0)\n",
        "    ipt=np.rollaxis(ipt,2,0)\n",
        "    X_tr.append(ipt)\n",
        "\n",
        "print()\n",
        "print (ipt.shape)\n",
        "num_samples = len(X_tr) \n",
        "print (num_samples)"
      ],
      "execution_count": 0,
      "outputs": [
        {
          "output_type": "stream",
          "text": [
            "100%|██████████| 1500/1500 [01:08<00:00, 21.00it/s]"
          ],
          "name": "stderr"
        },
        {
          "output_type": "stream",
          "text": [
            "(16, 64, 64, 3)\n",
            "4500\n"
          ],
          "name": "stdout"
        },
        {
          "output_type": "stream",
          "text": [
            "\n"
          ],
          "name": "stderr"
        }
      ]
    },
    {
      "cell_type": "code",
      "metadata": {
        "id": "9NsZkC1eCNH8",
        "colab_type": "code",
        "outputId": "8df232ea-879e-4aa0-9eba-3b1522de12fe",
        "colab": {
          "base_uri": "https://localhost:8080/",
          "height": 72
        }
      },
      "source": [
        "\n",
        "ls_path = os.path.join(\"./Thumb Up\")\n",
        "listing = os.listdir(ls_path)\n",
        "\n",
        "for ls in tqdm(listing):\n",
        "    listing_stop = sorted(os.listdir(os.path.join(ls_path,ls))) \n",
        "    frames = []\n",
        "    img_depth=0\n",
        "    for imgs in listing_stop:\n",
        "        if img_depth <16:\n",
        "            img = os.path.join(os.path.join(ls_path,ls),imgs)\n",
        "            frame = cv2.imread(img)\n",
        "            frame=cv2.resize(frame,(img_rows,img_cols),interpolation=cv2.INTER_AREA)\n",
        "            gray = cv2.cvtColor(frame, cv2.COLOR_BGR2RGB)\n",
        "            frames.append(gray)\n",
        "            img_depth=img_depth+1\n",
        "        else:\n",
        "            break\n",
        "    input_img = np.array(frames)\n",
        "    ipt=np.rollaxis(np.rollaxis(input_img,2,0),2,0)\n",
        "    ipt=np.rollaxis(ipt,2,0)\n",
        "    X_tr.append(ipt)\n",
        "\n",
        "print()\n",
        "print (ipt.shape)\n",
        "num_samples = len(X_tr) \n",
        "print (num_samples)"
      ],
      "execution_count": 0,
      "outputs": [
        {
          "output_type": "stream",
          "text": [
            "100%|██████████| 1500/1500 [01:07<00:00, 17.25it/s]"
          ],
          "name": "stderr"
        },
        {
          "output_type": "stream",
          "text": [
            "(16, 64, 64, 3)\n",
            "6000\n"
          ],
          "name": "stdout"
        },
        {
          "output_type": "stream",
          "text": [
            "\n"
          ],
          "name": "stderr"
        }
      ]
    },
    {
      "cell_type": "code",
      "metadata": {
        "id": "LToQwCu3CQd6",
        "colab_type": "code",
        "outputId": "3bee8a35-7188-4291-d3da-53a3abfeaf77",
        "colab": {
          "base_uri": "https://localhost:8080/",
          "height": 72
        }
      },
      "source": [
        "ls_path = os.path.join(\"./No gesture\")\n",
        "listing = os.listdir(ls_path)\n",
        "\n",
        "for ls in tqdm(listing):\n",
        "    listing_stop = sorted(os.listdir(os.path.join(ls_path,ls))) \n",
        "    frames = []\n",
        "    img_depth=0\n",
        "    for imgs in listing_stop:\n",
        "        if img_depth <16:\n",
        "            img = os.path.join(os.path.join(ls_path,ls),imgs)\n",
        "            frame = cv2.imread(img)\n",
        "            frame=cv2.resize(frame,(img_rows,img_cols),interpolation=cv2.INTER_AREA)\n",
        "            gray = cv2.cvtColor(frame, cv2.COLOR_BGR2RGB)\n",
        "            frames.append(gray)\n",
        "            img_depth=img_depth+1\n",
        "        else:\n",
        "            break\n",
        "    input_img = np.array(frames)\n",
        "    ipt=np.rollaxis(np.rollaxis(input_img,2,0),2,0)\n",
        "    ipt=np.rollaxis(ipt,2,0)\n",
        "    X_tr.append(ipt)\n",
        "\n",
        "print()\n",
        "print (ipt.shape)\n",
        "num_samples = len(X_tr) \n",
        "print (num_samples)"
      ],
      "execution_count": 0,
      "outputs": [
        {
          "output_type": "stream",
          "text": [
            "100%|██████████| 1500/1500 [02:44<00:00,  5.89it/s]"
          ],
          "name": "stderr"
        },
        {
          "output_type": "stream",
          "text": [
            "(16, 64, 64, 3)\n",
            "7500\n"
          ],
          "name": "stdout"
        },
        {
          "output_type": "stream",
          "text": [
            "\n"
          ],
          "name": "stderr"
        }
      ]
    },
    {
      "cell_type": "code",
      "metadata": {
        "id": "gylYMcLpCmii",
        "colab_type": "code",
        "outputId": "dc2081dd-a037-4645-cda8-adaa60b59e0e",
        "colab": {
          "base_uri": "https://localhost:8080/",
          "height": 35
        }
      },
      "source": [
        "X_tr_array = np.array(X_tr)   # convert the frames read into array\n",
        "\n",
        "num_samples = len(X_tr_array) \n",
        "print (num_samples)"
      ],
      "execution_count": 0,
      "outputs": [
        {
          "output_type": "stream",
          "text": [
            "7500\n"
          ],
          "name": "stdout"
        }
      ]
    },
    {
      "cell_type": "code",
      "metadata": {
        "id": "LI3JUxPjCtjq",
        "colab_type": "code",
        "colab": {}
      },
      "source": [
        "label=np.ones((num_samples,),dtype = int)\n",
        "label[0:1500]= 0\n",
        "label[1500:3000] = 1\n",
        "label[3000:4500] = 2\n",
        "label[4500:6000] = 3\n",
        "label[6000:7500] = 4\n"
      ],
      "execution_count": 0,
      "outputs": []
    },
    {
      "cell_type": "code",
      "metadata": {
        "id": "10Kug-KkCva7",
        "colab_type": "code",
        "outputId": "04781dc1-2645-4f55-e148-02c951e0a4ad",
        "colab": {
          "base_uri": "https://localhost:8080/",
          "height": 54
        }
      },
      "source": [
        "img_depth = 16\n",
        "train_data = [X_tr_array,label]\n",
        "\n",
        "(X_train, y_train) = (train_data[0],train_data[1])\n",
        "print('X_Train shape:', X_train.shape)\n",
        "\n",
        "train_set = np.zeros((num_samples, img_depth, img_cols,img_rows,3))\n",
        "\n",
        "for h in range(num_samples):\n",
        "    train_set[h][:][:][:][:]=X_train[h,:,:,:]\n",
        "  \n",
        "\n",
        "patch_size = 16    # img_depth or number of frames used for each gesture\n",
        "\n",
        "print(train_set.shape, 'train samples')"
      ],
      "execution_count": 0,
      "outputs": [
        {
          "output_type": "stream",
          "text": [
            "X_Train shape: (7500, 16, 64, 64, 3)\n",
            "(7500, 16, 64, 64, 3) train samples\n"
          ],
          "name": "stdout"
        }
      ]
    },
    {
      "cell_type": "code",
      "metadata": {
        "id": "TPLRit-yCxWH",
        "colab_type": "code",
        "outputId": "9464d95b-e30e-4355-da50-1e3f1769f8eb",
        "colab": {
          "base_uri": "https://localhost:8080/",
          "height": 54
        }
      },
      "source": [
        "# CNN Training parameters\n",
        "\n",
        "num_classes = 5\n",
        "# convert class vectors to binary class matrices\n",
        "Y_train = np_utils.to_categorical(y_train, num_classes)\n",
        "\n",
        "# Pre-processing\n",
        "train_set = train_set.astype('float32')\n",
        "print(np.mean(train_set))\n",
        "train_set -= np.mean(train_set)\n",
        "print(np.max(train_set))\n",
        "train_set /=np.max(train_set)"
      ],
      "execution_count": 0,
      "outputs": [
        {
          "output_type": "stream",
          "text": [
            "108.26149\n",
            "146.73851\n"
          ],
          "name": "stdout"
        }
      ]
    },
    {
      "cell_type": "code",
      "metadata": {
        "id": "3heLWjQ7C3Ml",
        "colab_type": "code",
        "colab": {}
      },
      "source": [
        "#low resolution network\n",
        "weight_decay = 0.005\n",
        "\n",
        "model = Sequential()\n",
        "model.add(MaxPooling3D(pool_size=(1, 2, 2),input_shape=(patch_size, 64, 64, 3)))\n",
        "\n",
        "model.add(Conv3D(8,(5,5,5),activation='relu',kernel_regularizer=regularizers.l2(weight_decay)))\n",
        "model.add(MaxPooling3D(pool_size=(1, 2, 2)))\n",
        "\n",
        "model.add(Conv3D(32,(3,5,5), activation='relu',kernel_regularizer=regularizers.l2(weight_decay)))\n",
        "model.add(MaxPooling3D(pool_size=(2, 2, 2)))\n",
        "# model.add(Conv3D(64,(3,3,5), activation='relu',kernel_regularizer=regularizers.l2(weight_decay)))\n",
        "# model.add(MaxPooling3D(pool_size=(1, 1, 4 )))\n",
        "\n",
        "\n",
        "\n",
        "#model.add(Conv3D(128,3,3,3, activation='relu'))\n",
        "#model.add(MaxPooling3D(pool_size=(2, 2, 2), strides=(2, 2, 2),border_mode='valid'))\n",
        "#model.add(BatchNormalization())\n",
        "\n",
        "model.add(Flatten())\n",
        "#model.add(GlobalAveragePooling3D())\n",
        "model.add(Dense(512, activation='relu',kernel_regularizer=regularizers.l2(weight_decay)))\n",
        "model.add(Dropout(0.5))\n",
        "\n",
        "model.add(Dense(256, activation='relu',kernel_regularizer=regularizers.l2(weight_decay)))\n",
        "model.add(Dropout(0.5))\n",
        "\n",
        "model.add(Dense(num_classes,kernel_initializer='normal',kernel_regularizer=regularizers.l2(weight_decay)))\n",
        "\n",
        "model.add(Activation('softmax'))"
      ],
      "execution_count": 0,
      "outputs": []
    },
    {
      "cell_type": "code",
      "metadata": {
        "id": "S1zO9ubvC3_G",
        "colab_type": "code",
        "outputId": "4fe1f60b-9a08-4458-c26a-5f69e90d5c73",
        "colab": {
          "base_uri": "https://localhost:8080/",
          "height": 599
        }
      },
      "source": [
        "model.summary()"
      ],
      "execution_count": 0,
      "outputs": [
        {
          "output_type": "stream",
          "text": [
            "Model: \"sequential_3\"\n",
            "_________________________________________________________________\n",
            "Layer (type)                 Output Shape              Param #   \n",
            "=================================================================\n",
            "max_pooling3d_9 (MaxPooling3 (None, 16, 32, 32, 3)     0         \n",
            "_________________________________________________________________\n",
            "conv3d_7 (Conv3D)            (None, 12, 28, 28, 8)     3008      \n",
            "_________________________________________________________________\n",
            "max_pooling3d_10 (MaxPooling (None, 12, 14, 14, 8)     0         \n",
            "_________________________________________________________________\n",
            "conv3d_8 (Conv3D)            (None, 10, 10, 10, 32)    19232     \n",
            "_________________________________________________________________\n",
            "max_pooling3d_11 (MaxPooling (None, 5, 5, 5, 32)       0         \n",
            "_________________________________________________________________\n",
            "flatten_2 (Flatten)          (None, 4000)              0         \n",
            "_________________________________________________________________\n",
            "dense_4 (Dense)              (None, 512)               2048512   \n",
            "_________________________________________________________________\n",
            "dropout_3 (Dropout)          (None, 512)               0         \n",
            "_________________________________________________________________\n",
            "dense_5 (Dense)              (None, 256)               131328    \n",
            "_________________________________________________________________\n",
            "dropout_4 (Dropout)          (None, 256)               0         \n",
            "_________________________________________________________________\n",
            "dense_6 (Dense)              (None, 5)                 1285      \n",
            "_________________________________________________________________\n",
            "activation_2 (Activation)    (None, 5)                 0         \n",
            "=================================================================\n",
            "Total params: 2,203,365\n",
            "Trainable params: 2,203,365\n",
            "Non-trainable params: 0\n",
            "_________________________________________________________________\n"
          ],
          "name": "stdout"
        }
      ]
    },
    {
      "cell_type": "code",
      "metadata": {
        "id": "nw8O7DEjC8me",
        "colab_type": "code",
        "outputId": "b6c981d3-30d1-4711-92b1-b69df24a1336",
        "colab": {
          "base_uri": "https://localhost:8080/",
          "height": 35
        }
      },
      "source": [
        "import os\n",
        "save_dir = os.path.join(os.getcwd(),'saved_model')\n",
        "print(os.getcwd())\n",
        "model_name = \"3DCNN_jester_84\"\n",
        "if not os.path.isdir(save_dir):\n",
        "    os.makedirs(save_dir)\n",
        "model_path = os.path.join(save_dir, model_name)\n",
        "checkpoint = ModelCheckpoint(model_path, monitor = 'val_acc', \n",
        "                            save_best_only=True, verbose=1)\n",
        "#earlystop\n",
        "earlystop = EarlyStopping(monitor='val_loss', patience=50, verbose =1)\n",
        "\n",
        "sgd = SGD(lr=0.005,  momentum=0.9, nesterov=False)\n",
        "rms = RMSprop(decay=1e-6)\n",
        "ada = Adadelta(lr=0.1,decay=1e-6)\n",
        "model.compile(loss='categorical_crossentropy', \n",
        "              optimizer=sgd,\n",
        "              metrics=['acc'])\n",
        "# Split the data\n",
        "X_train_new, X_val_new, y_train_new,y_val_new = train_test_split(train_set, Y_train, test_size=0.2, random_state=20)\n",
        "\n",
        "batch_size = 32\n",
        "num_epoch =200\n",
        "lr_reducer = ReduceLROnPlateau(monitor='val_loss', factor=0.05, \n",
        "                               cooldown=0, patience=10, min_lr=0.005/(2^4),verbose=1)"
      ],
      "execution_count": 0,
      "outputs": [
        {
          "output_type": "stream",
          "text": [
            "/content/drive/My Drive\n"
          ],
          "name": "stdout"
        }
      ]
    },
    {
      "cell_type": "code",
      "metadata": {
        "id": "5rddV7PaDDry",
        "colab_type": "code",
        "outputId": "dea51b4d-ca33-449c-d738-7fc5684c13d9",
        "colab": {
          "base_uri": "https://localhost:8080/",
          "height": 1000
        }
      },
      "source": [
        "hist = model.fit(\n",
        "    X_train_new,\n",
        "    y_train_new,\n",
        "    validation_data=(X_val_new,y_val_new),\n",
        "    batch_size=batch_size,\n",
        "    epochs = num_epoch,\n",
        "    shuffle=True,\n",
        "    callbacks=[checkpoint,lr_reducer]\n",
        "    )"
      ],
      "execution_count": 0,
      "outputs": [
        {
          "output_type": "stream",
          "text": [
            "WARNING:tensorflow:From /usr/local/lib/python3.6/dist-packages/tensorflow_core/python/ops/math_grad.py:1424: where (from tensorflow.python.ops.array_ops) is deprecated and will be removed in a future version.\n",
            "Instructions for updating:\n",
            "Use tf.where in 2.0, which has the same broadcast rule as np.where\n",
            "WARNING:tensorflow:From /usr/local/lib/python3.6/dist-packages/keras/backend/tensorflow_backend.py:1033: The name tf.assign_add is deprecated. Please use tf.compat.v1.assign_add instead.\n",
            "\n",
            "WARNING:tensorflow:From /usr/local/lib/python3.6/dist-packages/keras/backend/tensorflow_backend.py:1020: The name tf.assign is deprecated. Please use tf.compat.v1.assign instead.\n",
            "\n",
            "WARNING:tensorflow:From /usr/local/lib/python3.6/dist-packages/keras/backend/tensorflow_backend.py:3005: The name tf.Session is deprecated. Please use tf.compat.v1.Session instead.\n",
            "\n",
            "Train on 6000 samples, validate on 1500 samples\n",
            "Epoch 1/200\n",
            "WARNING:tensorflow:From /usr/local/lib/python3.6/dist-packages/keras/backend/tensorflow_backend.py:190: The name tf.get_default_session is deprecated. Please use tf.compat.v1.get_default_session instead.\n",
            "\n",
            "WARNING:tensorflow:From /usr/local/lib/python3.6/dist-packages/keras/backend/tensorflow_backend.py:197: The name tf.ConfigProto is deprecated. Please use tf.compat.v1.ConfigProto instead.\n",
            "\n",
            "WARNING:tensorflow:From /usr/local/lib/python3.6/dist-packages/keras/backend/tensorflow_backend.py:207: The name tf.global_variables is deprecated. Please use tf.compat.v1.global_variables instead.\n",
            "\n",
            "WARNING:tensorflow:From /usr/local/lib/python3.6/dist-packages/keras/backend/tensorflow_backend.py:216: The name tf.is_variable_initialized is deprecated. Please use tf.compat.v1.is_variable_initialized instead.\n",
            "\n",
            "WARNING:tensorflow:From /usr/local/lib/python3.6/dist-packages/keras/backend/tensorflow_backend.py:223: The name tf.variables_initializer is deprecated. Please use tf.compat.v1.variables_initializer instead.\n",
            "\n",
            "6000/6000 [==============================] - 29s 5ms/step - loss: 7.4476 - acc: 0.2082 - val_loss: 6.9026 - val_acc: 0.2207\n",
            "\n",
            "Epoch 00001: val_acc improved from -inf to 0.22067, saving model to /content/drive/My Drive/saved_model/3DCNN_LRN_112_6_jester\n",
            "Epoch 2/200\n",
            "6000/6000 [==============================] - 10s 2ms/step - loss: 6.3277 - acc: 0.3898 - val_loss: 5.6980 - val_acc: 0.5427\n",
            "\n",
            "Epoch 00002: val_acc improved from 0.22067 to 0.54267, saving model to /content/drive/My Drive/saved_model/3DCNN_LRN_112_6_jester\n",
            "Epoch 3/200\n",
            "6000/6000 [==============================] - 10s 2ms/step - loss: 5.2507 - acc: 0.5612 - val_loss: 4.7429 - val_acc: 0.6447\n",
            "\n",
            "Epoch 00003: val_acc improved from 0.54267 to 0.64467, saving model to /content/drive/My Drive/saved_model/3DCNN_LRN_112_6_jester\n",
            "Epoch 4/200\n",
            "6000/6000 [==============================] - 10s 2ms/step - loss: 4.3885 - acc: 0.6407 - val_loss: 4.0986 - val_acc: 0.6420\n",
            "\n",
            "Epoch 00004: val_acc did not improve from 0.64467\n",
            "Epoch 5/200\n",
            "6000/6000 [==============================] - 10s 2ms/step - loss: 3.7328 - acc: 0.6765 - val_loss: 3.3650 - val_acc: 0.7400\n",
            "\n",
            "Epoch 00005: val_acc improved from 0.64467 to 0.74000, saving model to /content/drive/My Drive/saved_model/3DCNN_LRN_112_6_jester\n",
            "Epoch 6/200\n",
            "6000/6000 [==============================] - 10s 2ms/step - loss: 3.1927 - acc: 0.7223 - val_loss: 2.9161 - val_acc: 0.7607\n",
            "\n",
            "Epoch 00006: val_acc improved from 0.74000 to 0.76067, saving model to /content/drive/My Drive/saved_model/3DCNN_LRN_112_6_jester\n",
            "Epoch 7/200\n",
            "6000/6000 [==============================] - 10s 2ms/step - loss: 2.7582 - acc: 0.7415 - val_loss: 2.5355 - val_acc: 0.7733\n",
            "\n",
            "Epoch 00007: val_acc improved from 0.76067 to 0.77333, saving model to /content/drive/My Drive/saved_model/3DCNN_LRN_112_6_jester\n",
            "Epoch 8/200\n",
            "6000/6000 [==============================] - 10s 2ms/step - loss: 2.4142 - acc: 0.7540 - val_loss: 2.2785 - val_acc: 0.7653\n",
            "\n",
            "Epoch 00008: val_acc did not improve from 0.77333\n",
            "Epoch 9/200\n",
            "6000/6000 [==============================] - 10s 2ms/step - loss: 2.1209 - acc: 0.7765 - val_loss: 1.9774 - val_acc: 0.7953\n",
            "\n",
            "Epoch 00009: val_acc improved from 0.77333 to 0.79533, saving model to /content/drive/My Drive/saved_model/3DCNN_LRN_112_6_jester\n",
            "Epoch 10/200\n",
            "6000/6000 [==============================] - 10s 2ms/step - loss: 1.8748 - acc: 0.7903 - val_loss: 1.8031 - val_acc: 0.7867\n",
            "\n",
            "Epoch 00010: val_acc did not improve from 0.79533\n",
            "Epoch 11/200\n",
            "6000/6000 [==============================] - 10s 2ms/step - loss: 1.6726 - acc: 0.8003 - val_loss: 1.6480 - val_acc: 0.7927\n",
            "\n",
            "Epoch 00011: val_acc did not improve from 0.79533\n",
            "Epoch 12/200\n",
            "6000/6000 [==============================] - 10s 2ms/step - loss: 1.5129 - acc: 0.8103 - val_loss: 1.4806 - val_acc: 0.8080\n",
            "\n",
            "Epoch 00012: val_acc improved from 0.79533 to 0.80800, saving model to /content/drive/My Drive/saved_model/3DCNN_LRN_112_6_jester\n",
            "Epoch 13/200\n",
            "6000/6000 [==============================] - 10s 2ms/step - loss: 1.3967 - acc: 0.8152 - val_loss: 1.4388 - val_acc: 0.7840\n",
            "\n",
            "Epoch 00013: val_acc did not improve from 0.80800\n",
            "Epoch 14/200\n",
            "6000/6000 [==============================] - 10s 2ms/step - loss: 1.2799 - acc: 0.8237 - val_loss: 1.3039 - val_acc: 0.8040\n",
            "\n",
            "Epoch 00014: val_acc did not improve from 0.80800\n",
            "Epoch 15/200\n",
            "6000/6000 [==============================] - 10s 2ms/step - loss: 1.1642 - acc: 0.8408 - val_loss: 1.2327 - val_acc: 0.8100\n",
            "\n",
            "Epoch 00015: val_acc improved from 0.80800 to 0.81000, saving model to /content/drive/My Drive/saved_model/3DCNN_LRN_112_6_jester\n",
            "Epoch 16/200\n",
            "6000/6000 [==============================] - 10s 2ms/step - loss: 1.1069 - acc: 0.8392 - val_loss: 1.1511 - val_acc: 0.8220\n",
            "\n",
            "Epoch 00016: val_acc improved from 0.81000 to 0.82200, saving model to /content/drive/My Drive/saved_model/3DCNN_LRN_112_6_jester\n",
            "Epoch 17/200\n",
            "6000/6000 [==============================] - 10s 2ms/step - loss: 1.0332 - acc: 0.8470 - val_loss: 1.1457 - val_acc: 0.8073\n",
            "\n",
            "Epoch 00017: val_acc did not improve from 0.82200\n",
            "Epoch 18/200\n",
            "6000/6000 [==============================] - 10s 2ms/step - loss: 0.9771 - acc: 0.8558 - val_loss: 1.0739 - val_acc: 0.8200\n",
            "\n",
            "Epoch 00018: val_acc did not improve from 0.82200\n",
            "Epoch 19/200\n",
            "6000/6000 [==============================] - 10s 2ms/step - loss: 0.9329 - acc: 0.8562 - val_loss: 1.0737 - val_acc: 0.8040\n",
            "\n",
            "Epoch 00019: val_acc did not improve from 0.82200\n",
            "Epoch 20/200\n",
            "6000/6000 [==============================] - 10s 2ms/step - loss: 0.9101 - acc: 0.8590 - val_loss: 1.0586 - val_acc: 0.8027\n",
            "\n",
            "Epoch 00020: val_acc did not improve from 0.82200\n",
            "Epoch 21/200\n",
            "6000/6000 [==============================] - 10s 2ms/step - loss: 0.8773 - acc: 0.8620 - val_loss: 0.9867 - val_acc: 0.8260\n",
            "\n",
            "Epoch 00021: val_acc improved from 0.82200 to 0.82600, saving model to /content/drive/My Drive/saved_model/3DCNN_LRN_112_6_jester\n",
            "Epoch 22/200\n",
            "6000/6000 [==============================] - 10s 2ms/step - loss: 0.8525 - acc: 0.8640 - val_loss: 1.0185 - val_acc: 0.8033\n",
            "\n",
            "Epoch 00022: val_acc did not improve from 0.82600\n",
            "Epoch 23/200\n",
            "6000/6000 [==============================] - 11s 2ms/step - loss: 0.8260 - acc: 0.8723 - val_loss: 0.9771 - val_acc: 0.8100\n",
            "\n",
            "Epoch 00023: val_acc did not improve from 0.82600\n",
            "Epoch 24/200\n",
            "6000/6000 [==============================] - 15s 3ms/step - loss: 0.8009 - acc: 0.8805 - val_loss: 0.9857 - val_acc: 0.8140\n",
            "\n",
            "Epoch 00024: val_acc did not improve from 0.82600\n",
            "Epoch 25/200\n",
            "6000/6000 [==============================] - 21s 3ms/step - loss: 0.7853 - acc: 0.8823 - val_loss: 0.9934 - val_acc: 0.8073\n",
            "\n",
            "Epoch 00025: val_acc did not improve from 0.82600\n",
            "Epoch 26/200\n",
            "6000/6000 [==============================] - 21s 3ms/step - loss: 0.7743 - acc: 0.8772 - val_loss: 0.9678 - val_acc: 0.8227\n",
            "\n",
            "Epoch 00026: val_acc did not improve from 0.82600\n",
            "Epoch 27/200\n",
            "6000/6000 [==============================] - 21s 4ms/step - loss: 0.7748 - acc: 0.8800 - val_loss: 0.9941 - val_acc: 0.8180\n",
            "\n",
            "Epoch 00027: val_acc did not improve from 0.82600\n",
            "Epoch 28/200\n",
            "6000/6000 [==============================] - 21s 3ms/step - loss: 0.7622 - acc: 0.8857 - val_loss: 0.9795 - val_acc: 0.8213\n",
            "\n",
            "Epoch 00028: val_acc did not improve from 0.82600\n",
            "Epoch 29/200\n",
            "6000/6000 [==============================] - 21s 3ms/step - loss: 0.7522 - acc: 0.8865 - val_loss: 1.0175 - val_acc: 0.8073\n",
            "\n",
            "Epoch 00029: val_acc did not improve from 0.82600\n",
            "Epoch 30/200\n",
            "6000/6000 [==============================] - 20s 3ms/step - loss: 0.7536 - acc: 0.8832 - val_loss: 1.0426 - val_acc: 0.7967\n",
            "\n",
            "Epoch 00030: val_acc did not improve from 0.82600\n",
            "Epoch 31/200\n",
            "6000/6000 [==============================] - 14s 2ms/step - loss: 0.7625 - acc: 0.8897 - val_loss: 0.9866 - val_acc: 0.8187\n",
            "\n",
            "Epoch 00031: val_acc did not improve from 0.82600\n",
            "Epoch 32/200\n",
            "6000/6000 [==============================] - 11s 2ms/step - loss: 0.7402 - acc: 0.8908 - val_loss: 1.0067 - val_acc: 0.8180\n",
            "\n",
            "Epoch 00032: val_acc did not improve from 0.82600\n",
            "Epoch 33/200\n",
            "6000/6000 [==============================] - 11s 2ms/step - loss: 0.7499 - acc: 0.8900 - val_loss: 0.9983 - val_acc: 0.8173\n",
            "\n",
            "Epoch 00033: val_acc did not improve from 0.82600\n",
            "Epoch 34/200\n",
            "6000/6000 [==============================] - 13s 2ms/step - loss: 0.7467 - acc: 0.8907 - val_loss: 1.0296 - val_acc: 0.8067\n",
            "\n",
            "Epoch 00034: val_acc did not improve from 0.82600\n",
            "Epoch 35/200\n",
            "6000/6000 [==============================] - 13s 2ms/step - loss: 0.7350 - acc: 0.8997 - val_loss: 0.9940 - val_acc: 0.8220\n",
            "\n",
            "Epoch 00035: val_acc did not improve from 0.82600\n",
            "Epoch 36/200\n",
            "6000/6000 [==============================] - 13s 2ms/step - loss: 0.7411 - acc: 0.9017 - val_loss: 1.0286 - val_acc: 0.8040\n",
            "\n",
            "Epoch 00036: val_acc did not improve from 0.82600\n",
            "\n",
            "Epoch 00036: ReduceLROnPlateau reducing learning rate to 0.0008333333333333334.\n",
            "Epoch 37/200\n",
            "6000/6000 [==============================] - 13s 2ms/step - loss: 0.6939 - acc: 0.9145 - val_loss: 0.9753 - val_acc: 0.8300\n",
            "\n",
            "Epoch 00037: val_acc improved from 0.82600 to 0.83000, saving model to /content/drive/My Drive/saved_model/3DCNN_LRN_112_6_jester\n",
            "Epoch 38/200\n",
            "6000/6000 [==============================] - 14s 2ms/step - loss: 0.6344 - acc: 0.9357 - val_loss: 0.9730 - val_acc: 0.8260\n",
            "\n",
            "Epoch 00038: val_acc did not improve from 0.83000\n",
            "Epoch 39/200\n",
            "6000/6000 [==============================] - 15s 2ms/step - loss: 0.6102 - acc: 0.9428 - val_loss: 0.9799 - val_acc: 0.8287\n",
            "\n",
            "Epoch 00039: val_acc did not improve from 0.83000\n",
            "Epoch 40/200\n",
            "6000/6000 [==============================] - 15s 3ms/step - loss: 0.5931 - acc: 0.9458 - val_loss: 0.9721 - val_acc: 0.8373\n",
            "\n",
            "Epoch 00040: val_acc improved from 0.83000 to 0.83733, saving model to /content/drive/My Drive/saved_model/3DCNN_LRN_112_6_jester\n",
            "Epoch 41/200\n",
            "6000/6000 [==============================] - 15s 3ms/step - loss: 0.5818 - acc: 0.9495 - val_loss: 0.9610 - val_acc: 0.8347\n",
            "\n",
            "Epoch 00041: val_acc did not improve from 0.83733\n",
            "Epoch 42/200\n",
            "6000/6000 [==============================] - 16s 3ms/step - loss: 0.5709 - acc: 0.9540 - val_loss: 0.9685 - val_acc: 0.8353\n",
            "\n",
            "Epoch 00042: val_acc did not improve from 0.83733\n",
            "Epoch 43/200\n",
            "6000/6000 [==============================] - 16s 3ms/step - loss: 0.5621 - acc: 0.9558 - val_loss: 0.9721 - val_acc: 0.8320\n",
            "\n",
            "Epoch 00043: val_acc did not improve from 0.83733\n",
            "Epoch 44/200\n",
            "6000/6000 [==============================] - 15s 3ms/step - loss: 0.5526 - acc: 0.9575 - val_loss: 0.9833 - val_acc: 0.8327\n",
            "\n",
            "Epoch 00044: val_acc did not improve from 0.83733\n",
            "Epoch 45/200\n",
            "6000/6000 [==============================] - 15s 3ms/step - loss: 0.5443 - acc: 0.9588 - val_loss: 0.9561 - val_acc: 0.8340\n",
            "\n",
            "Epoch 00045: val_acc did not improve from 0.83733\n",
            "Epoch 46/200\n",
            "6000/6000 [==============================] - 14s 2ms/step - loss: 0.5378 - acc: 0.9610 - val_loss: 0.9759 - val_acc: 0.8273\n",
            "\n",
            "Epoch 00046: val_acc did not improve from 0.83733\n",
            "Epoch 47/200\n",
            "6000/6000 [==============================] - 15s 2ms/step - loss: 0.5282 - acc: 0.9605 - val_loss: 0.9626 - val_acc: 0.8353\n",
            "\n",
            "Epoch 00047: val_acc did not improve from 0.83733\n",
            "Epoch 48/200\n",
            "6000/6000 [==============================] - 15s 2ms/step - loss: 0.5231 - acc: 0.9617 - val_loss: 0.9721 - val_acc: 0.8320\n",
            "\n",
            "Epoch 00048: val_acc did not improve from 0.83733\n",
            "Epoch 49/200\n",
            "6000/6000 [==============================] - 12s 2ms/step - loss: 0.5197 - acc: 0.9607 - val_loss: 0.9624 - val_acc: 0.8313\n",
            "\n",
            "Epoch 00049: val_acc did not improve from 0.83733\n",
            "Epoch 50/200\n",
            "6000/6000 [==============================] - 10s 2ms/step - loss: 0.5068 - acc: 0.9665 - val_loss: 0.9604 - val_acc: 0.8327\n",
            "\n",
            "Epoch 00050: val_acc did not improve from 0.83733\n",
            "Epoch 51/200\n",
            "6000/6000 [==============================] - 10s 2ms/step - loss: 0.5028 - acc: 0.9650 - val_loss: 0.9608 - val_acc: 0.8287\n",
            "\n",
            "Epoch 00051: val_acc did not improve from 0.83733\n",
            "Epoch 52/200\n",
            "6000/6000 [==============================] - 10s 2ms/step - loss: 0.5005 - acc: 0.9675 - val_loss: 0.9608 - val_acc: 0.8300\n",
            "\n",
            "Epoch 00052: val_acc did not improve from 0.83733\n",
            "Epoch 53/200\n",
            "6000/6000 [==============================] - 10s 2ms/step - loss: 0.4916 - acc: 0.9690 - val_loss: 0.9648 - val_acc: 0.8233\n",
            "\n",
            "Epoch 00053: val_acc did not improve from 0.83733\n",
            "Epoch 54/200\n",
            "6000/6000 [==============================] - 10s 2ms/step - loss: 0.4874 - acc: 0.9677 - val_loss: 0.9545 - val_acc: 0.8320\n",
            "\n",
            "Epoch 00054: val_acc did not improve from 0.83733\n",
            "Epoch 55/200\n",
            "6000/6000 [==============================] - 10s 2ms/step - loss: 0.4865 - acc: 0.9673 - val_loss: 0.9670 - val_acc: 0.8307\n",
            "\n",
            "Epoch 00055: val_acc did not improve from 0.83733\n",
            "Epoch 56/200\n",
            "6000/6000 [==============================] - 10s 2ms/step - loss: 0.4767 - acc: 0.9715 - val_loss: 0.9649 - val_acc: 0.8280\n",
            "\n",
            "Epoch 00056: val_acc did not improve from 0.83733\n",
            "Epoch 57/200\n",
            "6000/6000 [==============================] - 10s 2ms/step - loss: 0.4755 - acc: 0.9703 - val_loss: 0.9680 - val_acc: 0.8347\n",
            "\n",
            "Epoch 00057: val_acc did not improve from 0.83733\n",
            "Epoch 58/200\n",
            "6000/6000 [==============================] - 10s 2ms/step - loss: 0.4710 - acc: 0.9693 - val_loss: 0.9491 - val_acc: 0.8287\n",
            "\n",
            "Epoch 00058: val_acc did not improve from 0.83733\n",
            "Epoch 59/200\n",
            "6000/6000 [==============================] - 10s 2ms/step - loss: 0.4698 - acc: 0.9700 - val_loss: 0.9486 - val_acc: 0.8280\n",
            "\n",
            "Epoch 00059: val_acc did not improve from 0.83733\n",
            "Epoch 60/200\n",
            "6000/6000 [==============================] - 10s 2ms/step - loss: 0.4664 - acc: 0.9678 - val_loss: 0.9532 - val_acc: 0.8260\n",
            "\n",
            "Epoch 00060: val_acc did not improve from 0.83733\n",
            "Epoch 61/200\n",
            "6000/6000 [==============================] - 10s 2ms/step - loss: 0.4643 - acc: 0.9702 - val_loss: 0.9443 - val_acc: 0.8313\n",
            "\n",
            "Epoch 00061: val_acc did not improve from 0.83733\n",
            "Epoch 62/200\n",
            "6000/6000 [==============================] - 10s 2ms/step - loss: 0.4588 - acc: 0.9722 - val_loss: 0.9704 - val_acc: 0.8227\n",
            "\n",
            "Epoch 00062: val_acc did not improve from 0.83733\n",
            "Epoch 63/200\n",
            "6000/6000 [==============================] - 10s 2ms/step - loss: 0.4535 - acc: 0.9753 - val_loss: 0.9585 - val_acc: 0.8300\n",
            "\n",
            "Epoch 00063: val_acc did not improve from 0.83733\n",
            "Epoch 64/200\n",
            "6000/6000 [==============================] - 10s 2ms/step - loss: 0.4521 - acc: 0.9728 - val_loss: 0.9656 - val_acc: 0.8227\n",
            "\n",
            "Epoch 00064: val_acc did not improve from 0.83733\n",
            "Epoch 65/200\n",
            "6000/6000 [==============================] - 10s 2ms/step - loss: 0.4475 - acc: 0.9752 - val_loss: 0.9497 - val_acc: 0.8247\n",
            "\n",
            "Epoch 00065: val_acc did not improve from 0.83733\n",
            "Epoch 66/200\n",
            "6000/6000 [==============================] - 10s 2ms/step - loss: 0.4410 - acc: 0.9742 - val_loss: 0.9577 - val_acc: 0.8267\n",
            "\n",
            "Epoch 00066: val_acc did not improve from 0.83733\n",
            "Epoch 67/200\n",
            "6000/6000 [==============================] - 10s 2ms/step - loss: 0.4439 - acc: 0.9752 - val_loss: 0.9422 - val_acc: 0.8300\n",
            "\n",
            "Epoch 00067: val_acc did not improve from 0.83733\n",
            "Epoch 68/200\n",
            "6000/6000 [==============================] - 10s 2ms/step - loss: 0.4385 - acc: 0.9755 - val_loss: 0.9449 - val_acc: 0.8307\n",
            "\n",
            "Epoch 00068: val_acc did not improve from 0.83733\n",
            "Epoch 69/200\n",
            "6000/6000 [==============================] - 10s 2ms/step - loss: 0.4368 - acc: 0.9758 - val_loss: 0.9458 - val_acc: 0.8253\n",
            "\n",
            "Epoch 00069: val_acc did not improve from 0.83733\n",
            "Epoch 70/200\n",
            "6000/6000 [==============================] - 10s 2ms/step - loss: 0.4366 - acc: 0.9755 - val_loss: 0.9511 - val_acc: 0.8307\n",
            "\n",
            "Epoch 00070: val_acc did not improve from 0.83733\n",
            "Epoch 71/200\n",
            "6000/6000 [==============================] - 10s 2ms/step - loss: 0.4406 - acc: 0.9720 - val_loss: 0.9481 - val_acc: 0.8267\n",
            "\n",
            "Epoch 00071: val_acc did not improve from 0.83733\n",
            "Epoch 72/200\n",
            "6000/6000 [==============================] - 10s 2ms/step - loss: 0.4310 - acc: 0.9763 - val_loss: 0.9596 - val_acc: 0.8247\n",
            "\n",
            "Epoch 00072: val_acc did not improve from 0.83733\n",
            "Epoch 73/200\n",
            "6000/6000 [==============================] - 11s 2ms/step - loss: 0.4306 - acc: 0.9775 - val_loss: 0.9525 - val_acc: 0.8300\n",
            "\n",
            "Epoch 00073: val_acc did not improve from 0.83733\n",
            "Epoch 74/200\n",
            "6000/6000 [==============================] - 15s 2ms/step - loss: 0.4256 - acc: 0.9777 - val_loss: 0.9546 - val_acc: 0.8300\n",
            "\n",
            "Epoch 00074: val_acc did not improve from 0.83733\n",
            "Epoch 75/200\n",
            "6000/6000 [==============================] - 20s 3ms/step - loss: 0.4242 - acc: 0.9777 - val_loss: 0.9492 - val_acc: 0.8267\n",
            "\n",
            "Epoch 00075: val_acc did not improve from 0.83733\n",
            "Epoch 76/200\n",
            "6000/6000 [==============================] - 21s 4ms/step - loss: 0.4271 - acc: 0.9768 - val_loss: 0.9571 - val_acc: 0.8267\n",
            "\n",
            "Epoch 00076: val_acc did not improve from 0.83733\n",
            "Epoch 77/200\n",
            "6000/6000 [==============================] - 21s 4ms/step - loss: 0.4213 - acc: 0.9790 - val_loss: 0.9586 - val_acc: 0.8273\n",
            "\n",
            "Epoch 00077: val_acc did not improve from 0.83733\n",
            "\n",
            "Epoch 00077: ReduceLROnPlateau reducing learning rate to 0.0008333333333333334.\n",
            "Epoch 78/200\n",
            "6000/6000 [==============================] - 21s 4ms/step - loss: 0.4185 - acc: 0.9770 - val_loss: 0.9696 - val_acc: 0.8260\n",
            "\n",
            "Epoch 00078: val_acc did not improve from 0.83733\n",
            "Epoch 79/200\n",
            "6000/6000 [==============================] - 21s 4ms/step - loss: 0.4207 - acc: 0.9782 - val_loss: 0.9483 - val_acc: 0.8213\n",
            "\n",
            "Epoch 00079: val_acc did not improve from 0.83733\n",
            "Epoch 80/200\n",
            "6000/6000 [==============================] - 20s 3ms/step - loss: 0.4137 - acc: 0.9790 - val_loss: 0.9785 - val_acc: 0.8273\n",
            "\n",
            "Epoch 00080: val_acc did not improve from 0.83733\n",
            "Epoch 81/200\n",
            "6000/6000 [==============================] - 13s 2ms/step - loss: 0.4150 - acc: 0.9803 - val_loss: 0.9538 - val_acc: 0.8340\n",
            "\n",
            "Epoch 00081: val_acc did not improve from 0.83733\n",
            "Epoch 82/200\n",
            "6000/6000 [==============================] - 11s 2ms/step - loss: 0.4143 - acc: 0.9803 - val_loss: 0.9458 - val_acc: 0.8313\n",
            "\n",
            "Epoch 00082: val_acc did not improve from 0.83733\n",
            "Epoch 83/200\n",
            "6000/6000 [==============================] - 12s 2ms/step - loss: 0.4087 - acc: 0.9832 - val_loss: 0.9533 - val_acc: 0.8267\n",
            "\n",
            "Epoch 00083: val_acc did not improve from 0.83733\n",
            "Epoch 84/200\n",
            "6000/6000 [==============================] - 13s 2ms/step - loss: 0.4111 - acc: 0.9807 - val_loss: 0.9684 - val_acc: 0.8240\n",
            "\n",
            "Epoch 00084: val_acc did not improve from 0.83733\n",
            "Epoch 85/200\n",
            "6000/6000 [==============================] - 13s 2ms/step - loss: 0.4132 - acc: 0.9788 - val_loss: 0.9560 - val_acc: 0.8233\n",
            "\n",
            "Epoch 00085: val_acc did not improve from 0.83733\n",
            "Epoch 86/200\n",
            "6000/6000 [==============================] - 13s 2ms/step - loss: 0.4124 - acc: 0.9778 - val_loss: 0.9393 - val_acc: 0.8320\n",
            "\n",
            "Epoch 00086: val_acc did not improve from 0.83733\n",
            "Epoch 87/200\n",
            "6000/6000 [==============================] - 12s 2ms/step - loss: 0.4111 - acc: 0.9788 - val_loss: 0.9235 - val_acc: 0.8233\n",
            "\n",
            "Epoch 00087: val_acc did not improve from 0.83733\n",
            "Epoch 88/200\n",
            "6000/6000 [==============================] - 15s 2ms/step - loss: 0.4034 - acc: 0.9830 - val_loss: 0.9455 - val_acc: 0.8253\n",
            "\n",
            "Epoch 00088: val_acc did not improve from 0.83733\n",
            "Epoch 89/200\n",
            "6000/6000 [==============================] - 15s 3ms/step - loss: 0.4054 - acc: 0.9810 - val_loss: 0.9402 - val_acc: 0.8267\n",
            "\n",
            "Epoch 00089: val_acc did not improve from 0.83733\n",
            "Epoch 90/200\n",
            "6000/6000 [==============================] - 16s 3ms/step - loss: 0.4036 - acc: 0.9815 - val_loss: 0.9591 - val_acc: 0.8187\n",
            "\n",
            "Epoch 00090: val_acc did not improve from 0.83733\n",
            "Epoch 91/200\n",
            "6000/6000 [==============================] - 16s 3ms/step - loss: 0.4071 - acc: 0.9812 - val_loss: 0.9471 - val_acc: 0.8207\n",
            "\n",
            "Epoch 00091: val_acc did not improve from 0.83733\n",
            "Epoch 92/200\n",
            "6000/6000 [==============================] - 16s 3ms/step - loss: 0.4051 - acc: 0.9800 - val_loss: 0.9648 - val_acc: 0.8220\n",
            "\n",
            "Epoch 00092: val_acc did not improve from 0.83733\n",
            "Epoch 93/200\n",
            "6000/6000 [==============================] - 15s 3ms/step - loss: 0.4029 - acc: 0.9817 - val_loss: 0.9582 - val_acc: 0.8227\n",
            "\n",
            "Epoch 00093: val_acc did not improve from 0.83733\n",
            "Epoch 94/200\n",
            "6000/6000 [==============================] - 15s 3ms/step - loss: 0.3917 - acc: 0.9865 - val_loss: 0.9469 - val_acc: 0.8280\n",
            "\n",
            "Epoch 00094: val_acc did not improve from 0.83733\n",
            "Epoch 95/200\n",
            "6000/6000 [==============================] - 13s 2ms/step - loss: 0.3947 - acc: 0.9840 - val_loss: 0.9569 - val_acc: 0.8240\n",
            "\n",
            "Epoch 00095: val_acc did not improve from 0.83733\n",
            "Epoch 96/200\n",
            "6000/6000 [==============================] - 10s 2ms/step - loss: 0.3926 - acc: 0.9848 - val_loss: 0.9648 - val_acc: 0.8260\n",
            "\n",
            "Epoch 00096: val_acc did not improve from 0.83733\n",
            "Epoch 97/200\n",
            "6000/6000 [==============================] - 10s 2ms/step - loss: 0.3943 - acc: 0.9835 - val_loss: 0.9783 - val_acc: 0.8260\n",
            "\n",
            "Epoch 00097: val_acc did not improve from 0.83733\n",
            "\n",
            "Epoch 00097: ReduceLROnPlateau reducing learning rate to 0.0008333333333333334.\n",
            "Epoch 98/200\n",
            "6000/6000 [==============================] - 10s 2ms/step - loss: 0.3891 - acc: 0.9850 - val_loss: 0.9686 - val_acc: 0.8247\n",
            "\n",
            "Epoch 00098: val_acc did not improve from 0.83733\n",
            "Epoch 99/200\n",
            "6000/6000 [==============================] - 10s 2ms/step - loss: 0.3952 - acc: 0.9810 - val_loss: 0.9604 - val_acc: 0.8220\n",
            "\n",
            "Epoch 00099: val_acc did not improve from 0.83733\n",
            "Epoch 100/200\n",
            "6000/6000 [==============================] - 10s 2ms/step - loss: 0.3916 - acc: 0.9838 - val_loss: 0.9380 - val_acc: 0.8240\n",
            "\n",
            "Epoch 00100: val_acc did not improve from 0.83733\n",
            "Epoch 101/200\n",
            "6000/6000 [==============================] - 10s 2ms/step - loss: 0.3989 - acc: 0.9803 - val_loss: 0.9551 - val_acc: 0.8200\n",
            "\n",
            "Epoch 00101: val_acc did not improve from 0.83733\n",
            "Epoch 102/200\n",
            "6000/6000 [==============================] - 10s 2ms/step - loss: 0.3942 - acc: 0.9822 - val_loss: 0.9763 - val_acc: 0.8173\n",
            "\n",
            "Epoch 00102: val_acc did not improve from 0.83733\n",
            "Epoch 103/200\n",
            "6000/6000 [==============================] - 10s 2ms/step - loss: 0.3903 - acc: 0.9855 - val_loss: 0.9685 - val_acc: 0.8273\n",
            "\n",
            "Epoch 00103: val_acc did not improve from 0.83733\n",
            "Epoch 104/200\n",
            "6000/6000 [==============================] - 10s 2ms/step - loss: 0.3872 - acc: 0.9863 - val_loss: 0.9949 - val_acc: 0.8200\n",
            "\n",
            "Epoch 00104: val_acc did not improve from 0.83733\n",
            "Epoch 105/200\n",
            "6000/6000 [==============================] - 10s 2ms/step - loss: 0.3958 - acc: 0.9817 - val_loss: 0.9632 - val_acc: 0.8220\n",
            "\n",
            "Epoch 00105: val_acc did not improve from 0.83733\n",
            "Epoch 106/200\n",
            "6000/6000 [==============================] - 10s 2ms/step - loss: 0.3927 - acc: 0.9835 - val_loss: 0.9712 - val_acc: 0.8207\n",
            "\n",
            "Epoch 00106: val_acc did not improve from 0.83733\n",
            "Epoch 107/200\n",
            "6000/6000 [==============================] - 10s 2ms/step - loss: 0.3892 - acc: 0.9862 - val_loss: 0.9798 - val_acc: 0.8167\n",
            "\n",
            "Epoch 00107: val_acc did not improve from 0.83733\n",
            "\n",
            "Epoch 00107: ReduceLROnPlateau reducing learning rate to 0.0008333333333333334.\n",
            "Epoch 108/200\n",
            "6000/6000 [==============================] - 10s 2ms/step - loss: 0.3878 - acc: 0.9852 - val_loss: 0.9638 - val_acc: 0.8220\n",
            "\n",
            "Epoch 00108: val_acc did not improve from 0.83733\n",
            "Epoch 109/200\n",
            "6000/6000 [==============================] - 10s 2ms/step - loss: 0.3796 - acc: 0.9883 - val_loss: 1.0014 - val_acc: 0.8167\n",
            "\n",
            "Epoch 00109: val_acc did not improve from 0.83733\n",
            "Epoch 110/200\n",
            "6000/6000 [==============================] - 10s 2ms/step - loss: 0.3834 - acc: 0.9843 - val_loss: 0.9616 - val_acc: 0.8180\n",
            "\n",
            "Epoch 00110: val_acc did not improve from 0.83733\n",
            "Epoch 111/200\n",
            "6000/6000 [==============================] - 10s 2ms/step - loss: 0.3870 - acc: 0.9825 - val_loss: 0.9665 - val_acc: 0.8140\n",
            "\n",
            "Epoch 00111: val_acc did not improve from 0.83733\n",
            "Epoch 112/200\n",
            "6000/6000 [==============================] - 10s 2ms/step - loss: 0.3887 - acc: 0.9832 - val_loss: 0.9634 - val_acc: 0.8140\n",
            "\n",
            "Epoch 00112: val_acc did not improve from 0.83733\n",
            "Epoch 113/200\n",
            "6000/6000 [==============================] - 10s 2ms/step - loss: 0.3856 - acc: 0.9850 - val_loss: 0.9841 - val_acc: 0.8193\n",
            "\n",
            "Epoch 00113: val_acc did not improve from 0.83733\n",
            "Epoch 114/200\n",
            "6000/6000 [==============================] - 10s 2ms/step - loss: 0.3853 - acc: 0.9847 - val_loss: 0.9563 - val_acc: 0.8200\n",
            "\n",
            "Epoch 00114: val_acc did not improve from 0.83733\n",
            "Epoch 115/200\n",
            "6000/6000 [==============================] - 10s 2ms/step - loss: 0.3843 - acc: 0.9838 - val_loss: 0.9751 - val_acc: 0.8167\n",
            "\n",
            "Epoch 00115: val_acc did not improve from 0.83733\n",
            "Epoch 116/200\n",
            "6000/6000 [==============================] - 10s 2ms/step - loss: 0.3813 - acc: 0.9857 - val_loss: 0.9690 - val_acc: 0.8207\n",
            "\n",
            "Epoch 00116: val_acc did not improve from 0.83733\n",
            "Epoch 117/200\n",
            "6000/6000 [==============================] - 12s 2ms/step - loss: 0.3815 - acc: 0.9863 - val_loss: 0.9871 - val_acc: 0.8100\n",
            "\n",
            "Epoch 00117: val_acc did not improve from 0.83733\n",
            "\n",
            "Epoch 00117: ReduceLROnPlateau reducing learning rate to 0.0008333333333333334.\n",
            "Epoch 118/200\n",
            "6000/6000 [==============================] - 16s 3ms/step - loss: 0.3775 - acc: 0.9873 - val_loss: 0.9671 - val_acc: 0.8247\n",
            "\n",
            "Epoch 00118: val_acc did not improve from 0.83733\n",
            "Epoch 119/200\n",
            "6000/6000 [==============================] - 18s 3ms/step - loss: 0.3794 - acc: 0.9875 - val_loss: 1.0103 - val_acc: 0.8113\n",
            "\n",
            "Epoch 00119: val_acc did not improve from 0.83733\n",
            "Epoch 120/200\n",
            "6000/6000 [==============================] - 19s 3ms/step - loss: 0.3859 - acc: 0.9818 - val_loss: 0.9570 - val_acc: 0.8133\n",
            "\n",
            "Epoch 00120: val_acc did not improve from 0.83733\n",
            "Epoch 121/200\n",
            "6000/6000 [==============================] - 21s 4ms/step - loss: 0.3879 - acc: 0.9828 - val_loss: 0.9687 - val_acc: 0.8127\n",
            "\n",
            "Epoch 00121: val_acc did not improve from 0.83733\n",
            "Epoch 122/200\n",
            "6000/6000 [==============================] - 21s 4ms/step - loss: 0.3830 - acc: 0.9858 - val_loss: 0.9755 - val_acc: 0.8167\n",
            "\n",
            "Epoch 00122: val_acc did not improve from 0.83733\n",
            "Epoch 123/200\n",
            "6000/6000 [==============================] - 21s 4ms/step - loss: 0.3751 - acc: 0.9888 - val_loss: 0.9668 - val_acc: 0.8193\n",
            "\n",
            "Epoch 00123: val_acc did not improve from 0.83733\n",
            "Epoch 124/200\n",
            "6000/6000 [==============================] - 21s 4ms/step - loss: 0.3768 - acc: 0.9860 - val_loss: 0.9827 - val_acc: 0.8140\n",
            "\n",
            "Epoch 00124: val_acc did not improve from 0.83733\n",
            "Epoch 125/200\n",
            "6000/6000 [==============================] - 13s 2ms/step - loss: 0.3729 - acc: 0.9900 - val_loss: 0.9985 - val_acc: 0.8120\n",
            "\n",
            "Epoch 00125: val_acc did not improve from 0.83733\n",
            "Epoch 126/200\n",
            "6000/6000 [==============================] - 11s 2ms/step - loss: 0.3790 - acc: 0.9858 - val_loss: 0.9805 - val_acc: 0.8167\n",
            "\n",
            "Epoch 00126: val_acc did not improve from 0.83733\n",
            "Epoch 127/200\n",
            "6000/6000 [==============================] - 12s 2ms/step - loss: 0.3737 - acc: 0.9897 - val_loss: 0.9784 - val_acc: 0.8140\n",
            "\n",
            "Epoch 00127: val_acc did not improve from 0.83733\n",
            "\n",
            "Epoch 00127: ReduceLROnPlateau reducing learning rate to 0.0008333333333333334.\n",
            "Epoch 128/200\n",
            "6000/6000 [==============================] - 14s 2ms/step - loss: 0.3729 - acc: 0.9878 - val_loss: 1.0156 - val_acc: 0.8073\n",
            "\n",
            "Epoch 00128: val_acc did not improve from 0.83733\n",
            "Epoch 129/200\n",
            "6000/6000 [==============================] - 13s 2ms/step - loss: 0.3767 - acc: 0.9872 - val_loss: 0.9668 - val_acc: 0.8233\n",
            "\n",
            "Epoch 00129: val_acc did not improve from 0.83733\n",
            "Epoch 130/200\n",
            "6000/6000 [==============================] - 14s 2ms/step - loss: 0.3769 - acc: 0.9868 - val_loss: 0.9715 - val_acc: 0.8127\n",
            "\n",
            "Epoch 00130: val_acc did not improve from 0.83733\n",
            "Epoch 131/200\n",
            "6000/6000 [==============================] - 13s 2ms/step - loss: 0.3706 - acc: 0.9878 - val_loss: 1.0000 - val_acc: 0.8113\n",
            "\n",
            "Epoch 00131: val_acc did not improve from 0.83733\n",
            "Epoch 132/200\n",
            "6000/6000 [==============================] - 15s 2ms/step - loss: 0.3787 - acc: 0.9838 - val_loss: 0.9663 - val_acc: 0.8187\n",
            "\n",
            "Epoch 00132: val_acc did not improve from 0.83733\n",
            "Epoch 133/200\n",
            "6000/6000 [==============================] - 16s 3ms/step - loss: 0.3761 - acc: 0.9872 - val_loss: 0.9913 - val_acc: 0.8207\n",
            "\n",
            "Epoch 00133: val_acc did not improve from 0.83733\n",
            "Epoch 134/200\n",
            "6000/6000 [==============================] - 16s 3ms/step - loss: 0.3706 - acc: 0.9902 - val_loss: 1.0025 - val_acc: 0.8153\n",
            "\n",
            "Epoch 00134: val_acc did not improve from 0.83733\n",
            "Epoch 135/200\n",
            "6000/6000 [==============================] - 16s 3ms/step - loss: 0.3719 - acc: 0.9867 - val_loss: 1.0078 - val_acc: 0.8113\n",
            "\n",
            "Epoch 00135: val_acc did not improve from 0.83733\n",
            "Epoch 136/200\n",
            "6000/6000 [==============================] - 16s 3ms/step - loss: 0.3656 - acc: 0.9885 - val_loss: 0.9854 - val_acc: 0.8180\n",
            "\n",
            "Epoch 00136: val_acc did not improve from 0.83733\n",
            "Epoch 137/200\n",
            "6000/6000 [==============================] - 17s 3ms/step - loss: 0.3736 - acc: 0.9865 - val_loss: 0.9791 - val_acc: 0.8140\n",
            "\n",
            "Epoch 00137: val_acc did not improve from 0.83733\n",
            "\n",
            "Epoch 00137: ReduceLROnPlateau reducing learning rate to 0.0008333333333333334.\n",
            "Epoch 138/200\n",
            "6000/6000 [==============================] - 17s 3ms/step - loss: 0.3805 - acc: 0.9835 - val_loss: 0.9845 - val_acc: 0.8193\n",
            "\n",
            "Epoch 00138: val_acc did not improve from 0.83733\n",
            "Epoch 139/200\n",
            "6000/6000 [==============================] - 15s 2ms/step - loss: 0.3781 - acc: 0.9840 - val_loss: 0.9884 - val_acc: 0.8087\n",
            "\n",
            "Epoch 00139: val_acc did not improve from 0.83733\n",
            "Epoch 140/200\n",
            "6000/6000 [==============================] - 15s 2ms/step - loss: 0.3812 - acc: 0.9837 - val_loss: 0.9865 - val_acc: 0.8167\n",
            "\n",
            "Epoch 00140: val_acc did not improve from 0.83733\n",
            "Epoch 141/200\n",
            "6000/6000 [==============================] - 14s 2ms/step - loss: 0.3716 - acc: 0.9890 - val_loss: 0.9845 - val_acc: 0.8153\n",
            "\n",
            "Epoch 00141: val_acc did not improve from 0.83733\n",
            "Epoch 142/200\n",
            "6000/6000 [==============================] - 12s 2ms/step - loss: 0.3728 - acc: 0.9880 - val_loss: 0.9829 - val_acc: 0.8153\n",
            "\n",
            "Epoch 00142: val_acc did not improve from 0.83733\n",
            "Epoch 143/200\n",
            "6000/6000 [==============================] - 10s 2ms/step - loss: 0.3704 - acc: 0.9868 - val_loss: 0.9804 - val_acc: 0.8207\n",
            "\n",
            "Epoch 00143: val_acc did not improve from 0.83733\n",
            "Epoch 144/200\n",
            "6000/6000 [==============================] - 10s 2ms/step - loss: 0.3715 - acc: 0.9868 - val_loss: 0.9688 - val_acc: 0.8080\n",
            "\n",
            "Epoch 00144: val_acc did not improve from 0.83733\n",
            "Epoch 145/200\n",
            "6000/6000 [==============================] - 10s 2ms/step - loss: 0.3676 - acc: 0.9885 - val_loss: 0.9732 - val_acc: 0.8153\n",
            "\n",
            "Epoch 00145: val_acc did not improve from 0.83733\n",
            "Epoch 146/200\n",
            "6000/6000 [==============================] - 10s 2ms/step - loss: 0.3720 - acc: 0.9867 - val_loss: 0.9743 - val_acc: 0.8160\n",
            "\n",
            "Epoch 00146: val_acc did not improve from 0.83733\n",
            "Epoch 147/200\n",
            "6000/6000 [==============================] - 10s 2ms/step - loss: 0.3752 - acc: 0.9863 - val_loss: 1.0021 - val_acc: 0.8127\n",
            "\n",
            "Epoch 00147: val_acc did not improve from 0.83733\n",
            "\n",
            "Epoch 00147: ReduceLROnPlateau reducing learning rate to 0.0008333333333333334.\n",
            "Epoch 148/200\n",
            "6000/6000 [==============================] - 10s 2ms/step - loss: 0.3863 - acc: 0.9833 - val_loss: 0.9630 - val_acc: 0.8133\n",
            "\n",
            "Epoch 00148: val_acc did not improve from 0.83733\n",
            "Epoch 149/200\n",
            "6000/6000 [==============================] - 10s 2ms/step - loss: 0.3719 - acc: 0.9882 - val_loss: 0.9766 - val_acc: 0.8173\n",
            "\n",
            "Epoch 00149: val_acc did not improve from 0.83733\n",
            "Epoch 150/200\n",
            "6000/6000 [==============================] - 10s 2ms/step - loss: 0.3657 - acc: 0.9890 - val_loss: 0.9772 - val_acc: 0.8093\n",
            "\n",
            "Epoch 00150: val_acc did not improve from 0.83733\n",
            "Epoch 151/200\n",
            "6000/6000 [==============================] - 10s 2ms/step - loss: 0.3674 - acc: 0.9907 - val_loss: 0.9832 - val_acc: 0.8147\n",
            "\n",
            "Epoch 00151: val_acc did not improve from 0.83733\n",
            "Epoch 152/200\n",
            "6000/6000 [==============================] - 10s 2ms/step - loss: 0.3644 - acc: 0.9897 - val_loss: 0.9719 - val_acc: 0.8193\n",
            "\n",
            "Epoch 00152: val_acc did not improve from 0.83733\n",
            "Epoch 153/200\n",
            "6000/6000 [==============================] - 10s 2ms/step - loss: 0.3712 - acc: 0.9877 - val_loss: 0.9592 - val_acc: 0.8167\n",
            "\n",
            "Epoch 00153: val_acc did not improve from 0.83733\n",
            "Epoch 154/200\n",
            "6000/6000 [==============================] - 10s 2ms/step - loss: 0.3624 - acc: 0.9898 - val_loss: 0.9980 - val_acc: 0.8100\n",
            "\n",
            "Epoch 00154: val_acc did not improve from 0.83733\n",
            "Epoch 155/200\n",
            "6000/6000 [==============================] - 10s 2ms/step - loss: 0.3653 - acc: 0.9902 - val_loss: 0.9953 - val_acc: 0.8187\n",
            "\n",
            "Epoch 00155: val_acc did not improve from 0.83733\n",
            "Epoch 156/200\n",
            "6000/6000 [==============================] - 10s 2ms/step - loss: 0.3654 - acc: 0.9875 - val_loss: 0.9723 - val_acc: 0.8147\n",
            "\n",
            "Epoch 00156: val_acc did not improve from 0.83733\n",
            "Epoch 157/200\n",
            "6000/6000 [==============================] - 10s 2ms/step - loss: 0.3676 - acc: 0.9853 - val_loss: 0.9771 - val_acc: 0.8107\n",
            "\n",
            "Epoch 00157: val_acc did not improve from 0.83733\n",
            "\n",
            "Epoch 00157: ReduceLROnPlateau reducing learning rate to 0.0008333333333333334.\n",
            "Epoch 158/200\n",
            "6000/6000 [==============================] - 10s 2ms/step - loss: 0.3688 - acc: 0.9870 - val_loss: 0.9791 - val_acc: 0.8120\n",
            "\n",
            "Epoch 00158: val_acc did not improve from 0.83733\n",
            "Epoch 159/200\n",
            "6000/6000 [==============================] - 10s 2ms/step - loss: 0.3653 - acc: 0.9868 - val_loss: 1.0004 - val_acc: 0.8107\n",
            "\n",
            "Epoch 00159: val_acc did not improve from 0.83733\n",
            "Epoch 160/200\n",
            "6000/6000 [==============================] - 10s 2ms/step - loss: 0.3737 - acc: 0.9848 - val_loss: 1.0030 - val_acc: 0.8067\n",
            "\n",
            "Epoch 00160: val_acc did not improve from 0.83733\n",
            "Epoch 161/200\n",
            "6000/6000 [==============================] - 10s 2ms/step - loss: 0.3766 - acc: 0.9852 - val_loss: 0.9722 - val_acc: 0.8173\n",
            "\n",
            "Epoch 00161: val_acc did not improve from 0.83733\n",
            "Epoch 162/200\n",
            "6000/6000 [==============================] - 10s 2ms/step - loss: 0.3698 - acc: 0.9873 - val_loss: 0.9792 - val_acc: 0.8167\n",
            "\n",
            "Epoch 00162: val_acc did not improve from 0.83733\n",
            "Epoch 163/200\n",
            "6000/6000 [==============================] - 10s 2ms/step - loss: 0.3670 - acc: 0.9883 - val_loss: 1.0038 - val_acc: 0.8093\n",
            "\n",
            "Epoch 00163: val_acc did not improve from 0.83733\n",
            "Epoch 164/200\n",
            "6000/6000 [==============================] - 10s 2ms/step - loss: 0.3608 - acc: 0.9900 - val_loss: 1.0220 - val_acc: 0.8093\n",
            "\n",
            "Epoch 00164: val_acc did not improve from 0.83733\n",
            "Epoch 165/200\n",
            "6000/6000 [==============================] - 10s 2ms/step - loss: 0.3716 - acc: 0.9840 - val_loss: 0.9691 - val_acc: 0.8067\n",
            "\n",
            "Epoch 00165: val_acc did not improve from 0.83733\n",
            "Epoch 166/200\n",
            "6000/6000 [==============================] - 10s 2ms/step - loss: 0.3768 - acc: 0.9845 - val_loss: 0.9887 - val_acc: 0.8067\n",
            "\n",
            "Epoch 00166: val_acc did not improve from 0.83733\n",
            "Epoch 167/200\n",
            "6000/6000 [==============================] - 10s 2ms/step - loss: 0.3644 - acc: 0.9878 - val_loss: 1.0043 - val_acc: 0.8067\n",
            "\n",
            "Epoch 00167: val_acc did not improve from 0.83733\n",
            "\n",
            "Epoch 00167: ReduceLROnPlateau reducing learning rate to 0.0008333333333333334.\n",
            "Epoch 168/200\n",
            "6000/6000 [==============================] - 10s 2ms/step - loss: 0.3713 - acc: 0.9877 - val_loss: 0.9868 - val_acc: 0.8120\n",
            "\n",
            "Epoch 00168: val_acc did not improve from 0.83733\n",
            "Epoch 169/200\n",
            "6000/6000 [==============================] - 10s 2ms/step - loss: 0.3695 - acc: 0.9863 - val_loss: 0.9894 - val_acc: 0.8147\n",
            "\n",
            "Epoch 00169: val_acc did not improve from 0.83733\n",
            "Epoch 170/200\n",
            "6000/6000 [==============================] - 10s 2ms/step - loss: 0.3779 - acc: 0.9848 - val_loss: 0.9846 - val_acc: 0.8120\n",
            "\n",
            "Epoch 00170: val_acc did not improve from 0.83733\n",
            "Epoch 171/200\n",
            "6000/6000 [==============================] - 10s 2ms/step - loss: 0.3690 - acc: 0.9883 - val_loss: 0.9971 - val_acc: 0.8073\n",
            "\n",
            "Epoch 00171: val_acc did not improve from 0.83733\n",
            "Epoch 172/200\n",
            "6000/6000 [==============================] - 10s 2ms/step - loss: 0.3694 - acc: 0.9877 - val_loss: 0.9955 - val_acc: 0.8167\n",
            "\n",
            "Epoch 00172: val_acc did not improve from 0.83733\n",
            "Epoch 173/200\n",
            "6000/6000 [==============================] - 10s 2ms/step - loss: 0.3597 - acc: 0.9902 - val_loss: 0.9790 - val_acc: 0.8180\n",
            "\n",
            "Epoch 00173: val_acc did not improve from 0.83733\n",
            "Epoch 174/200\n",
            "6000/6000 [==============================] - 10s 2ms/step - loss: 0.3575 - acc: 0.9912 - val_loss: 1.0146 - val_acc: 0.8080\n",
            "\n",
            "Epoch 00174: val_acc did not improve from 0.83733\n",
            "Epoch 175/200\n",
            "6000/6000 [==============================] - 10s 2ms/step - loss: 0.3584 - acc: 0.9902 - val_loss: 0.9792 - val_acc: 0.8080\n",
            "\n",
            "Epoch 00175: val_acc did not improve from 0.83733\n",
            "Epoch 176/200\n",
            "6000/6000 [==============================] - 10s 2ms/step - loss: 0.3565 - acc: 0.9905 - val_loss: 0.9951 - val_acc: 0.8100\n",
            "\n",
            "Epoch 00176: val_acc did not improve from 0.83733\n",
            "Epoch 177/200\n",
            "6000/6000 [==============================] - 10s 2ms/step - loss: 0.3586 - acc: 0.9897 - val_loss: 1.0063 - val_acc: 0.8140\n",
            "\n",
            "Epoch 00177: val_acc did not improve from 0.83733\n",
            "\n",
            "Epoch 00177: ReduceLROnPlateau reducing learning rate to 0.0008333333333333334.\n",
            "Epoch 178/200\n",
            "6000/6000 [==============================] - 10s 2ms/step - loss: 0.3532 - acc: 0.9915 - val_loss: 0.9860 - val_acc: 0.8093\n",
            "\n",
            "Epoch 00178: val_acc did not improve from 0.83733\n",
            "Epoch 179/200\n",
            "6000/6000 [==============================] - 10s 2ms/step - loss: 0.3644 - acc: 0.9878 - val_loss: 0.9907 - val_acc: 0.8060\n",
            "\n",
            "Epoch 00179: val_acc did not improve from 0.83733\n",
            "Epoch 180/200\n",
            "6000/6000 [==============================] - 10s 2ms/step - loss: 0.3617 - acc: 0.9890 - val_loss: 0.9848 - val_acc: 0.8113\n",
            "\n",
            "Epoch 00180: val_acc did not improve from 0.83733\n",
            "Epoch 181/200\n",
            "6000/6000 [==============================] - 10s 2ms/step - loss: 0.3621 - acc: 0.9888 - val_loss: 0.9830 - val_acc: 0.8133\n",
            "\n",
            "Epoch 00181: val_acc did not improve from 0.83733\n",
            "Epoch 182/200\n",
            "6000/6000 [==============================] - 10s 2ms/step - loss: 0.3658 - acc: 0.9860 - val_loss: 0.9940 - val_acc: 0.8147\n",
            "\n",
            "Epoch 00182: val_acc did not improve from 0.83733\n",
            "Epoch 183/200\n",
            "6000/6000 [==============================] - 10s 2ms/step - loss: 0.3596 - acc: 0.9897 - val_loss: 0.9875 - val_acc: 0.8160\n",
            "\n",
            "Epoch 00183: val_acc did not improve from 0.83733\n",
            "Epoch 184/200\n",
            "6000/6000 [==============================] - 10s 2ms/step - loss: 0.3609 - acc: 0.9890 - val_loss: 1.0107 - val_acc: 0.8073\n",
            "\n",
            "Epoch 00184: val_acc did not improve from 0.83733\n",
            "Epoch 185/200\n",
            "6000/6000 [==============================] - 10s 2ms/step - loss: 0.3620 - acc: 0.9882 - val_loss: 0.9729 - val_acc: 0.8093\n",
            "\n",
            "Epoch 00185: val_acc did not improve from 0.83733\n",
            "Epoch 186/200\n",
            "6000/6000 [==============================] - 10s 2ms/step - loss: 0.3567 - acc: 0.9903 - val_loss: 0.9973 - val_acc: 0.8093\n",
            "\n",
            "Epoch 00186: val_acc did not improve from 0.83733\n",
            "Epoch 187/200\n",
            "6000/6000 [==============================] - 10s 2ms/step - loss: 0.3548 - acc: 0.9920 - val_loss: 0.9914 - val_acc: 0.8080\n",
            "\n",
            "Epoch 00187: val_acc did not improve from 0.83733\n",
            "\n",
            "Epoch 00187: ReduceLROnPlateau reducing learning rate to 0.0008333333333333334.\n",
            "Epoch 188/200\n",
            "6000/6000 [==============================] - 10s 2ms/step - loss: 0.3509 - acc: 0.9907 - val_loss: 0.9873 - val_acc: 0.8067\n",
            "\n",
            "Epoch 00188: val_acc did not improve from 0.83733\n",
            "Epoch 189/200\n",
            "6000/6000 [==============================] - 10s 2ms/step - loss: 0.3633 - acc: 0.9863 - val_loss: 0.9923 - val_acc: 0.8140\n",
            "\n",
            "Epoch 00189: val_acc did not improve from 0.83733\n",
            "Epoch 190/200\n",
            "6000/6000 [==============================] - 10s 2ms/step - loss: 0.3590 - acc: 0.9905 - val_loss: 1.0143 - val_acc: 0.8033\n",
            "\n",
            "Epoch 00190: val_acc did not improve from 0.83733\n",
            "Epoch 191/200\n",
            "6000/6000 [==============================] - 10s 2ms/step - loss: 0.3666 - acc: 0.9847 - val_loss: 0.9921 - val_acc: 0.8027\n",
            "\n",
            "Epoch 00191: val_acc did not improve from 0.83733\n",
            "Epoch 192/200\n",
            "6000/6000 [==============================] - 10s 2ms/step - loss: 0.3560 - acc: 0.9905 - val_loss: 1.0050 - val_acc: 0.8067\n",
            "\n",
            "Epoch 00192: val_acc did not improve from 0.83733\n",
            "Epoch 193/200\n",
            "6000/6000 [==============================] - 10s 2ms/step - loss: 0.3563 - acc: 0.9892 - val_loss: 0.9996 - val_acc: 0.8120\n",
            "\n",
            "Epoch 00193: val_acc did not improve from 0.83733\n",
            "Epoch 194/200\n",
            "6000/6000 [==============================] - 10s 2ms/step - loss: 0.3532 - acc: 0.9905 - val_loss: 1.0062 - val_acc: 0.8133\n",
            "\n",
            "Epoch 00194: val_acc did not improve from 0.83733\n",
            "Epoch 195/200\n",
            "6000/6000 [==============================] - 10s 2ms/step - loss: 0.3542 - acc: 0.9913 - val_loss: 0.9905 - val_acc: 0.8073\n",
            "\n",
            "Epoch 00195: val_acc did not improve from 0.83733\n",
            "Epoch 196/200\n",
            "6000/6000 [==============================] - 10s 2ms/step - loss: 0.3516 - acc: 0.9910 - val_loss: 1.0187 - val_acc: 0.8113\n",
            "\n",
            "Epoch 00196: val_acc did not improve from 0.83733\n",
            "Epoch 197/200\n",
            "6000/6000 [==============================] - 10s 2ms/step - loss: 0.3647 - acc: 0.9875 - val_loss: 0.9823 - val_acc: 0.8113\n",
            "\n",
            "Epoch 00197: val_acc did not improve from 0.83733\n",
            "\n",
            "Epoch 00197: ReduceLROnPlateau reducing learning rate to 0.0008333333333333334.\n",
            "Epoch 198/200\n",
            "6000/6000 [==============================] - 10s 2ms/step - loss: 0.3569 - acc: 0.9912 - val_loss: 0.9878 - val_acc: 0.8127\n",
            "\n",
            "Epoch 00198: val_acc did not improve from 0.83733\n",
            "Epoch 199/200\n",
            "6000/6000 [==============================] - 10s 2ms/step - loss: 0.3531 - acc: 0.9910 - val_loss: 1.0215 - val_acc: 0.8007\n",
            "\n",
            "Epoch 00199: val_acc did not improve from 0.83733\n",
            "Epoch 200/200\n",
            "6000/6000 [==============================] - 10s 2ms/step - loss: 0.3511 - acc: 0.9915 - val_loss: 0.9972 - val_acc: 0.7953\n",
            "\n",
            "Epoch 00200: val_acc did not improve from 0.83733\n"
          ],
          "name": "stdout"
        }
      ]
    },
    {
      "cell_type": "code",
      "metadata": {
        "id": "lB2Ud_4IDIMF",
        "colab_type": "code",
        "outputId": "bb4be53b-0bc1-4587-bfd9-0161f46126a4",
        "colab": {
          "base_uri": "https://localhost:8080/",
          "height": 295
        }
      },
      "source": [
        "training_loss = hist.history['loss']\n",
        "val_loss = hist.history['val_loss']\n",
        "\n",
        "plt.plot(training_loss, label=\"training_loss\")\n",
        "plt.plot(val_loss, label=\"validation_loss\")\n",
        "plt.xlabel(\"Epochs\")\n",
        "plt.ylabel(\"Loss\")\n",
        "plt.title(\"Learning Curve\")\n",
        "plt.legend(loc='best')\n",
        "plt.show()"
      ],
      "execution_count": 0,
      "outputs": [
        {
          "output_type": "display_data",
          "data": {
            "image/png": "[encoded data removed]",
            "text/plain": [
              "<Figure size 432x288 with 1 Axes>"
            ]
          },
          "metadata": {
            "tags": []
          }
        }
      ]
    },
    {
      "cell_type": "code",
      "metadata": {
        "id": "poUdrlJ4DI1a",
        "colab_type": "code",
        "outputId": "b50d5541-3932-4034-a16d-da50d3e26e72",
        "colab": {
          "base_uri": "https://localhost:8080/",
          "height": 295
        }
      },
      "source": [
        "training_acc = hist.history['acc']\n",
        "val_acc = hist.history['val_acc']\n",
        "\n",
        "plt.plot(training_acc, label=\"training_accuracy\")\n",
        "plt.plot(val_acc, label=\"validation_accuracy\")\n",
        "plt.xlabel(\"Epochs\")\n",
        "plt.ylabel(\"accuracy\")\n",
        "plt.title(\"Learning Curve\")\n",
        "plt.legend(loc='best')\n",
        "plt.show()"
      ],
      "execution_count": 0,
      "outputs": [
        {
          "output_type": "display_data",
          "data": {
            "image/png": "[encoded data removed]",
            "text/plain": [
              "<Figure size 432x288 with 1 Axes>"
            ]
          },
          "metadata": {
            "tags": []
          }
        }
      ]
    },
    {
      "cell_type": "code",
      "metadata": {
        "id": "khzEz6J6DKsS",
        "colab_type": "code",
        "colab": {}
      },
      "source": [
        "from keras.models import Model, load_model\n",
        "model1_name = \"3DCNN_jester_84\"\n",
        "model1_path = os.path.join(save_dir, model1_name)\n",
        "model1 = load_model(model1_path)"
      ],
      "execution_count": 0,
      "outputs": []
    },
    {
      "cell_type": "code",
      "metadata": {
        "id": "IsR3_QttDMyw",
        "colab_type": "code",
        "outputId": "0b512ae1-8838-4bd1-ea97-2e68444d1d79",
        "colab": {
          "base_uri": "https://localhost:8080/",
          "height": 35
        }
      },
      "source": [
        "test_pred =model1.predict(X_train_new[50:70])\n",
        "result = np.argmax(test_pred, axis =1)\n",
        "print(result)"
      ],
      "execution_count": 0,
      "outputs": [
        {
          "output_type": "stream",
          "text": [
            "[0 1 1 1 4 0 3 1 2 1 2 1 4 4 1 0 1 3 4 4]\n"
          ],
          "name": "stdout"
        }
      ]
    },
    {
      "cell_type": "code",
      "metadata": {
        "id": "mRoOjzzCDOmL",
        "colab_type": "code",
        "colab": {}
      },
      "source": [
        "img_array = X_train_new[50]"
      ],
      "execution_count": 0,
      "outputs": []
    },
    {
      "cell_type": "code",
      "metadata": {
        "id": "aCoDK00uDSgh",
        "colab_type": "code",
        "outputId": "97470bf5-4947-41e5-e534-671e1cf47ac6",
        "colab": {
          "base_uri": "https://localhost:8080/",
          "height": 108
        }
      },
      "source": [
        "from sklearn.metrics import confusion_matrix\n",
        "met = confusion_matrix(np.argmax(y_val_new,axis =1), np.argmax(model1.predict(X_val_new),axis =1))\n",
        "print(met)"
      ],
      "execution_count": 0,
      "outputs": [
        {
          "output_type": "stream",
          "text": [
            "[[210  26  13  31   9]\n",
            " [ 23 241   9  11  14]\n",
            " [  6   8 285   6  10]\n",
            " [ 38  14  12 228   7]\n",
            " [  1   1   2   3 292]]\n"
          ],
          "name": "stdout"
        }
      ]
    },
    {
      "cell_type": "code",
      "metadata": {
        "id": "GVjt5oL8DWll",
        "colab_type": "code",
        "colab": {}
      },
      "source": [
        "import itertools\n",
        "def confusion_matrix_plot(cm, classes, \n",
        "                          title='Normalized Confusion Matrix', \n",
        "                          normalize=True, \n",
        "                          cmap=plt.cm.Blues):\n",
        "    \"\"\"\n",
        "    This function prints and plots the confusion matrix.\n",
        "    Normalization can be applied by setting `normalize=True`.\n",
        "    \"\"\"\n",
        "\n",
        "    if normalize:\n",
        "        cm = cm.astype('float') / cm.sum(axis=1)[:, np.newaxis]\n",
        "        cm = np.around(cm, decimals=2)\n",
        "        cm[np.isnan(cm)] = 0.0\n",
        "    plt.subplots(1, 1, figsize=(8, 8))\n",
        "    plt.imshow(cm, interpolation='nearest', cmap=cmap)\n",
        "    plt.title(title)\n",
        "    plt.colorbar()\n",
        "    tick_marks = np.arange(len(classes))\n",
        "    plt.xticks(tick_marks, classes, rotation=45)\n",
        "    plt.yticks(tick_marks, classes)\n",
        "\n",
        "    fmt = '.2f'\n",
        "    thresh = cm.max() / 2.\n",
        "    for i, j in itertools.product(range(cm.shape[0]), range(cm.shape[1])):\n",
        "        plt.text(j, i, format(cm[i, j], fmt),\n",
        "                 horizontalalignment=\"center\",\n",
        "                 color=\"white\" if cm[i, j] > thresh else \"black\")\n",
        "\n",
        "    plt.tight_layout()\n",
        "    plt.ylabel('True label')\n",
        "    plt.xlabel('Predicted label')\n"
      ],
      "execution_count": 0,
      "outputs": []
    },
    {
      "cell_type": "code",
      "metadata": {
        "id": "upv3o6Y9DXYn",
        "colab_type": "code",
        "outputId": "c6bd28e1-94b3-4e90-c021-bfca6df16274",
        "colab": {
          "base_uri": "https://localhost:8080/",
          "height": 566
        }
      },
      "source": [
        "confusion_matrix_plot(met, classes=['Pulling Hand In', 'Swipe Left', 'Swipe Right', 'Thumb Up','No Gesture'])\n"
      ],
      "execution_count": 0,
      "outputs": [
        {
          "output_type": "display_data",
          "data": {
            "image/png": "[encoded data removed]",
            "text/plain": [
              "<Figure size 576x576 with 2 Axes>"
            ]
          },
          "metadata": {
            "tags": []
          }
        }
      ]
    },
    {
      "cell_type": "code",
      "metadata": {
        "id": "u4MXzKukDadX",
        "colab_type": "code",
        "colab": {}
      },
      "source": [
        "from keras.models import Model, load_model\n",
        "model2_name = \"3DCNN_LRN_112_6_jester\"\n",
        "model2_path = os.path.join(save_dir, model2_name)\n",
        "model2 = load_model(model2_path)"
      ],
      "execution_count": 0,
      "outputs": []
    },
    {
      "cell_type": "code",
      "metadata": {
        "id": "9a1fq0UxDbMl",
        "colab_type": "code",
        "outputId": "3d318e99-23be-4e89-b2fb-2a0172cc75a8",
        "colab": {
          "base_uri": "https://localhost:8080/",
          "height": 108
        }
      },
      "source": [
        "met = confusion_matrix(np.argmax(y_val_new,axis =1), np.argmax(model1.predict(X_val_new)+model2.predict(X_val_new),axis =1))\n",
        "print(met)"
      ],
      "execution_count": 0,
      "outputs": [
        {
          "output_type": "stream",
          "text": [
            "[[210  26  13  31   9]\n",
            " [ 23 241   9  11  14]\n",
            " [  6   8 285   6  10]\n",
            " [ 38  14  12 228   7]\n",
            " [  1   1   2   3 292]]\n"
          ],
          "name": "stdout"
        }
      ]
    },
    {
      "cell_type": "code",
      "metadata": {
        "id": "oihAidTsEk4i",
        "colab_type": "code",
        "colab": {}
      },
      "source": [
        ""
      ],
      "execution_count": 0,
      "outputs": []
    }
  ]
}