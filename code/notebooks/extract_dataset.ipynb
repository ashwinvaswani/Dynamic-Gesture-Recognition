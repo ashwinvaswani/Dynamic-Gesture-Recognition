{
 "cells": [
  {
   "cell_type": "code",
   "execution_count": 1,
   "metadata": {},
   "outputs": [
    {
     "name": "stdout",
     "output_type": "stream",
     "text": [
      " \u001b[0m\u001b[34;42mdataset\u001b[0m/          \u001b[01;32mOpenpose.py\u001b[0m*                               \u001b[01;32mUntitled.ipynb\u001b[0m*\r\n",
      " \u001b[01;32mdataset.tar.xz\u001b[0m*  \u001b[01;32m'Real time hand gesture Recognition.pdf'\u001b[0m*\r\n"
     ]
    }
   ],
   "source": [
    "ls"
   ]
  },
  {
   "cell_type": "code",
   "execution_count": 2,
   "metadata": {},
   "outputs": [
    {
     "name": "stdout",
     "output_type": "stream",
     "text": [
      "/media/ashwin/DATA/Settings/DownloadsD/Coding/SOP/dataset\n"
     ]
    }
   ],
   "source": [
    "cd dataset"
   ]
  },
  {
   "cell_type": "code",
   "execution_count": 3,
   "metadata": {},
   "outputs": [
    {
     "name": "stdout",
     "output_type": "stream",
     "text": [
      "\u001b[0m\u001b[34;42m'Doing other things'\u001b[0m/         \u001b[34;42m'Sliding Two Fingers Up'\u001b[0m/\r\n",
      " \u001b[01;32mjester-v1-train.csv\u001b[0m*         \u001b[34;42m'Swiping Down'\u001b[0m/\r\n",
      " \u001b[01;32mjester-v1-validation.csv\u001b[0m*    \u001b[34;42m'Swiping Left'\u001b[0m/\r\n",
      "\u001b[34;42m'No gesture'\u001b[0m/                 \u001b[34;42m'Swiping Right'\u001b[0m/\r\n",
      "\u001b[34;42m'Pulling Hand In'\u001b[0m/            \u001b[34;42m'Swiping Up'\u001b[0m/\r\n",
      "\u001b[34;42m'Pushing Hand Away'\u001b[0m/          \u001b[34;42m'Thumb Down'\u001b[0m/\r\n",
      "\u001b[34;42m'Shaking Hand'\u001b[0m/               \u001b[34;42m'Thumb Up'\u001b[0m/\r\n",
      "\u001b[34;42m'Sliding Two Fingers Down'\u001b[0m/   \u001b[34;42m'Zooming In With Two Fingers'\u001b[0m/\r\n",
      "\u001b[34;42m'Sliding Two Fingers Left'\u001b[0m/   \u001b[34;42m'Zooming Out With Two Fingers'\u001b[0m/\r\n",
      "\u001b[34;42m'Sliding Two Fingers Right'\u001b[0m/\r\n"
     ]
    }
   ],
   "source": [
    "ls"
   ]
  },
  {
   "cell_type": "code",
   "execution_count": 10,
   "metadata": {},
   "outputs": [],
   "source": [
    "import os\n",
    "import cv2"
   ]
  },
  {
   "cell_type": "code",
   "execution_count": 11,
   "metadata": {},
   "outputs": [],
   "source": [
    "dict1 = dict()\n",
    "all_list = []\n",
    "\n",
    "current_dir = os.path.dirname(os.path.abspath('__file__'))\n",
    "current_dir2 = current_dir + '/Pulling Hand In/'\n",
    "\n",
    "for f in sorted(os.listdir(current_dir2)): \n",
    "    new_path = current_dir2 + f\n",
    "    cnt = 0 \n",
    "    for img in os.listdir(new_path):\n",
    "            cnt += 1\n",
    "            img2 = cv2.imread(new_path + '/' + img)\n",
    "            img3 = cv2.resize(img2,(64,64),interpolation = cv2.INTER_AREA)\n",
    "            cv2.imwrite(new_path + '/' + img,img3)\n",
    "#             all_list.append((img,img[-6:][0:2]))\n",
    "#             if f in dict1:\n",
    "#                 dict1[f].append((img,img[-6:][0:2]))\n",
    "#             else:\n",
    "#                 dict1[f] = [(img,img[-6:][0:2])]"
   ]
  },
  {
   "cell_type": "code",
   "execution_count": 12,
   "metadata": {},
   "outputs": [],
   "source": [
    "dict1 = dict()\n",
    "all_list = []\n",
    "\n",
    "current_dir = os.path.dirname(os.path.abspath('__file__'))\n",
    "current_dir2 = current_dir + '/Swiping Left/'\n",
    "\n",
    "for f in sorted(os.listdir(current_dir2)): \n",
    "    new_path = current_dir2 + f\n",
    "    cnt = 0 \n",
    "    for img in os.listdir(new_path):\n",
    "            cnt += 1\n",
    "            img2 = cv2.imread(new_path + '/' + img)\n",
    "            img3 = cv2.resize(img2,(64,64),interpolation = cv2.INTER_AREA)\n",
    "            cv2.imwrite(new_path + '/' + img,img3)\n",
    "#             all_list.append((img,img[-6:][0:2]))\n",
    "#             if f in dict1:\n",
    "#                 dict1[f].append((img,img[-6:][0:2]))\n",
    "#             else:\n",
    "#                 dict1[f] = [(img,img[-6:][0:2])]\n",
    "                "
   ]
  },
  {
   "cell_type": "code",
   "execution_count": 13,
   "metadata": {},
   "outputs": [],
   "source": [
    "dict1 = dict()\n",
    "all_list = []\n",
    "\n",
    "current_dir = os.path.dirname(os.path.abspath('__file__'))\n",
    "current_dir2 = current_dir + '/Swiping Right/'\n",
    "\n",
    "for f in sorted(os.listdir(current_dir2)): \n",
    "    new_path = current_dir2 + f\n",
    "    cnt = 0 \n",
    "    for img in os.listdir(new_path):\n",
    "            cnt += 1\n",
    "            img2 = cv2.imread(new_path + '/' + img)\n",
    "            img3 = cv2.resize(img2,(64,64),interpolation = cv2.INTER_AREA)\n",
    "            cv2.imwrite(new_path + '/' + img,img3)\n",
    "#             all_list.append((img,img[-6:][0:2]))\n",
    "#             if f in dict1:\n",
    "#                 dict1[f].append((img,img[-6:][0:2]))\n",
    "#             else:\n",
    "#                 dict1[f] = [(img,img[-6:][0:2])]\n"
   ]
  },
  {
   "cell_type": "code",
   "execution_count": 15,
   "metadata": {},
   "outputs": [],
   "source": [
    "dict1 = dict()\n",
    "all_list = []\n",
    "\n",
    "current_dir = os.path.dirname(os.path.abspath('__file__'))\n",
    "current_dir2 = current_dir + '/Thumb Up/'\n",
    "\n",
    "for f in sorted(os.listdir(current_dir2)): \n",
    "    new_path = current_dir2 + f\n",
    "    cnt = 0 \n",
    "    for img in os.listdir(new_path):\n",
    "            cnt += 1\n",
    "            img2 = cv2.imread(new_path + '/' + img)\n",
    "            img3 = cv2.resize(img2,(64,64),interpolation = cv2.INTER_AREA)\n",
    "            cv2.imwrite(new_path + '/' + img,img3)\n",
    "#             all_list.append((img,img[-6:][0:2]))\n",
    "#             if f in dict1:\n",
    "#                 dict1[f].append((img,img[-6:][0:2]))\n",
    "#             else:\n",
    "#                 dict1[f] = [(img,img[-6:][0:2])]\n"
   ]
  },
  {
   "cell_type": "code",
   "execution_count": 16,
   "metadata": {},
   "outputs": [],
   "source": [
    "dict1 = dict()\n",
    "all_list = []\n",
    "\n",
    "current_dir = os.path.dirname(os.path.abspath('__file__'))\n",
    "current_dir2 = current_dir + '/No gesture/'\n",
    "\n",
    "for f in sorted(os.listdir(current_dir2)): \n",
    "    new_path = current_dir2 + f\n",
    "    cnt = 0 \n",
    "    for img in os.listdir(new_path):\n",
    "            cnt += 1\n",
    "            img2 = cv2.imread(new_path + '/' + img)\n",
    "            img3 = cv2.resize(img2,(64,64),interpolation = cv2.INTER_AREA)\n",
    "            cv2.imwrite(new_path + '/' + img,img3)\n",
    "#             all_list.append((img,img[-6:][0:2]))\n",
    "#             if f in dict1:\n",
    "#                 dict1[f].append((img,img[-6:][0:2]))\n",
    "#             else:\n",
    "#                 dict1[f] = [(img,img[-6:][0:2])]\n"
   ]
  },
  {
   "cell_type": "code",
   "execution_count": null,
   "metadata": {},
   "outputs": [],
   "source": []
  }
 ],
 "metadata": {
  "kernelspec": {
   "display_name": "Python 3",
   "language": "python",
   "name": "python3"
  },
  "language_info": {
   "codemirror_mode": {
    "name": "ipython",
    "version": 3
   },
   "file_extension": ".py",
   "mimetype": "text/x-python",
   "name": "python",
   "nbconvert_exporter": "python",
   "pygments_lexer": "ipython3",
   "version": "3.7.3"
  }
 },
 "nbformat": 4,
 "nbformat_minor": 2
}
